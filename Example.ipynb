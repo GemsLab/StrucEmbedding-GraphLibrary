{
 "cells": [
  {
   "cell_type": "markdown",
   "metadata": {},
   "source": [
    "# Load Embedding Methods and Datasets\n"
   ]
  },
  {
   "cell_type": "code",
   "execution_count": 1,
   "metadata": {},
   "outputs": [
    {
     "name": "stdout",
     "output_type": "stream",
     "text": [
      "graphwave\n",
      "degree2\n",
      "drne\n"
     ]
    },
    {
     "name": "stderr",
     "output_type": "stream",
     "text": [
      "/Library/Frameworks/Python.framework/Versions/3.6/lib/python3.6/site-packages/tensorflow/python/framework/dtypes.py:493: FutureWarning: Passing (type, 1) or '1type' as a synonym of type is deprecated; in a future version of numpy, it will be understood as (type, (1,)) / '(1,)type'.\n",
      "  _np_qint8 = np.dtype([(\"qint8\", np.int8, 1)])\n",
      "/Library/Frameworks/Python.framework/Versions/3.6/lib/python3.6/site-packages/tensorflow/python/framework/dtypes.py:494: FutureWarning: Passing (type, 1) or '1type' as a synonym of type is deprecated; in a future version of numpy, it will be understood as (type, (1,)) / '(1,)type'.\n",
      "  _np_quint8 = np.dtype([(\"quint8\", np.uint8, 1)])\n",
      "/Library/Frameworks/Python.framework/Versions/3.6/lib/python3.6/site-packages/tensorflow/python/framework/dtypes.py:495: FutureWarning: Passing (type, 1) or '1type' as a synonym of type is deprecated; in a future version of numpy, it will be understood as (type, (1,)) / '(1,)type'.\n",
      "  _np_qint16 = np.dtype([(\"qint16\", np.int16, 1)])\n",
      "/Library/Frameworks/Python.framework/Versions/3.6/lib/python3.6/site-packages/tensorflow/python/framework/dtypes.py:496: FutureWarning: Passing (type, 1) or '1type' as a synonym of type is deprecated; in a future version of numpy, it will be understood as (type, (1,)) / '(1,)type'.\n",
      "  _np_quint16 = np.dtype([(\"quint16\", np.uint16, 1)])\n",
      "/Library/Frameworks/Python.framework/Versions/3.6/lib/python3.6/site-packages/tensorflow/python/framework/dtypes.py:497: FutureWarning: Passing (type, 1) or '1type' as a synonym of type is deprecated; in a future version of numpy, it will be understood as (type, (1,)) / '(1,)type'.\n",
      "  _np_qint32 = np.dtype([(\"qint32\", np.int32, 1)])\n",
      "/Library/Frameworks/Python.framework/Versions/3.6/lib/python3.6/site-packages/tensorflow/python/framework/dtypes.py:502: FutureWarning: Passing (type, 1) or '1type' as a synonym of type is deprecated; in a future version of numpy, it will be understood as (type, (1,)) / '(1,)type'.\n",
      "  np_resource = np.dtype([(\"resource\", np.ubyte, 1)])\n"
     ]
    },
    {
     "name": "stdout",
     "output_type": "stream",
     "text": [
      "node2vec\n",
      "degree\n",
      "role2vec\n",
      "line\n",
      "degree1\n",
      "struc2vec\n",
      "xnetmf\n",
      "multilens\n",
      "segk\n",
      "riwalk\n"
     ]
    },
    {
     "name": "stderr",
     "output_type": "stream",
     "text": [
      "/Library/Frameworks/Python.framework/Versions/3.6/lib/python3.6/site-packages/sklearn/externals/joblib/__init__.py:15: DeprecationWarning: sklearn.externals.joblib is deprecated in 0.21 and will be removed in 0.23. Please import this functionality directly from joblib, which can be installed with: pip install joblib. If this warning is raised when loading pickled models, you may need to re-serialize those models with scikit-learn 0.21+.\n",
      "  warnings.warn(msg, category=DeprecationWarning)\n"
     ]
    }
   ],
   "source": [
    "from semb.methods import load as load_method\n",
    "from semb.methods import get_method_ids\n",
    "for mid in get_method_ids():\n",
    "    print(mid)\n",
    "    load_method(mid)"
   ]
  },
  {
   "cell_type": "markdown",
   "metadata": {},
   "source": [
    "These are the method_id for the existing datasets."
   ]
  },
  {
   "cell_type": "code",
   "execution_count": 2,
   "metadata": {},
   "outputs": [
    {
     "name": "stdout",
     "output_type": "stream",
     "text": [
      "BlogCatalog\n",
      "ICEWS\n",
      "Facebook\n",
      "DD6\n",
      "PPI\n",
      "airports\n"
     ]
    }
   ],
   "source": [
    "from semb.datasets import load as load_dataset\n",
    "from semb.datasets import get_dataset_ids\n",
    "for did in get_dataset_ids():\n",
    "    print(did)\n",
    "    load_dataset(did)"
   ]
  },
  {
   "cell_type": "markdown",
   "metadata": {},
   "source": [
    "These are the dataset_id for the existing datasets."
   ]
  },
  {
   "cell_type": "markdown",
   "metadata": {},
   "source": [
    "# Load Dataset"
   ]
  },
  {
   "cell_type": "code",
   "execution_count": 3,
   "metadata": {},
   "outputs": [],
   "source": [
    "# Get airports datasets\n",
    "DataProvider = load_dataset(\"airports\")\n",
    "Datasets = DataProvider().get_datasets()\n",
    "dataset_graph = DataProvider().load_dataset(Datasets[0])"
   ]
  },
  {
   "cell_type": "markdown",
   "metadata": {},
   "source": [
    "Note that there are three datasets in the airports dataset.\n",
    "\n",
    "Datasets[0] represents the BR-air traffic Dataset\n",
    "\n",
    "Datasets[1] represents the EU-air traffic Dataset\n",
    "\n",
    "Datasets[2] represents the US-air traffic Dataset"
   ]
  },
  {
   "cell_type": "code",
   "execution_count": 4,
   "metadata": {},
   "outputs": [],
   "source": [
    "# Example code for getting the other datasets\n",
    "DataProvider = load_dataset(\"Facebook\")\n",
    "Facebook_dataset = DataProvider().get_datasets()\n",
    "Facebook_graph = DataProvider().load_dataset(Facebook_dataset[0])"
   ]
  },
  {
   "cell_type": "markdown",
   "metadata": {},
   "source": [
    "# Get Embedding Result Using struc2vec"
   ]
  },
  {
   "cell_type": "code",
   "execution_count": 5,
   "metadata": {},
   "outputs": [
    {
     "name": "stdout",
     "output_type": "stream",
     "text": [
      "rm /Users/mark/GoogleDrive/UM/S4/GEMS/Git/StrucEmbeddingLibrary/semb/methods/struc2vec/pickles/weights_distances-layer-*.pickle\n"
     ]
    }
   ],
   "source": [
    "# Define a hyper-class to load the embedding method\n",
    "EmbMethodClass = load_method(\"struc2vec\")\n",
    "\n",
    "# Call the embedding method with the graph for initialization\n",
    "struc2vec = EmbMethodClass(dataset_graph, \n",
    "                           num_walks=10, \n",
    "                           walk_length=80, \n",
    "                           window_size=10, \n",
    "                           dim=128, \n",
    "                           opt1=True, opt2=True, opt3=True, until_layer=2)\n",
    "struc2vec.train()\n",
    "\n",
    "# Get the embedding result with the get_embeddings() method,\n",
    "# The return type is a dictionary with key as node_id and value as the embedding\n",
    "dict_struc2vec_emb = struc2vec.get_embeddings()"
   ]
  },
  {
   "cell_type": "code",
   "execution_count": 6,
   "metadata": {},
   "outputs": [
    {
     "data": {
      "text/plain": [
       "{'dim': 128,\n",
       " 'walk_length': 80,\n",
       " 'num_walks': 10,\n",
       " 'window_size': 10,\n",
       " 'until_layer': None,\n",
       " 'iter': 5,\n",
       " 'workers': 1,\n",
       " 'weighted': False,\n",
       " 'directed': False,\n",
       " 'opt1': False,\n",
       " 'opt2': False,\n",
       " 'opt3': False}"
      ]
     },
     "execution_count": 6,
     "metadata": {},
     "output_type": "execute_result"
    }
   ],
   "source": [
    "# This shows the tunable hyper-parameters for the certain embedding method\n",
    "# Here, for example, list the tunable hyper-parameters for struc2vec\n",
    "EmbMethodClass.__PARAMS__"
   ]
  },
  {
   "cell_type": "code",
   "execution_count": 7,
   "metadata": {},
   "outputs": [
    {
     "data": {
      "text/plain": [
       "[(7,\n",
       "  [-0.4232161343097687,\n",
       "   -0.12211604416370392,\n",
       "   -0.41314584016799927,\n",
       "   0.31680214405059814,\n",
       "   0.22780832648277283,\n",
       "   0.16798822581768036,\n",
       "   0.3995887339115143,\n",
       "   0.2065640687942505,\n",
       "   0.43101632595062256,\n",
       "   0.1483970731496811,\n",
       "   0.3616706430912018,\n",
       "   -0.16688808798789978,\n",
       "   0.36248403787612915,\n",
       "   -0.05844362452626228,\n",
       "   -0.05580306053161621,\n",
       "   0.48257818818092346,\n",
       "   -0.10159474611282349,\n",
       "   -0.17438405752182007,\n",
       "   0.43539392948150635,\n",
       "   0.2525126338005066,\n",
       "   -0.036251772195100784,\n",
       "   -0.19434180855751038,\n",
       "   -0.1814160943031311,\n",
       "   -0.19217780232429504,\n",
       "   0.25638559460639954,\n",
       "   -0.11004286259412766,\n",
       "   0.10969080030918121,\n",
       "   0.2960025370121002,\n",
       "   -0.17926089465618134,\n",
       "   -0.3447902798652649,\n",
       "   0.3123073875904083,\n",
       "   0.17308878898620605,\n",
       "   -0.5789359211921692,\n",
       "   -0.08227355778217316,\n",
       "   -0.1508754938840866,\n",
       "   -0.2065512239933014,\n",
       "   -0.26680704951286316,\n",
       "   -0.10857447981834412,\n",
       "   0.1815626472234726,\n",
       "   0.11504188925027847,\n",
       "   0.37738704681396484,\n",
       "   -0.17305131256580353,\n",
       "   0.6549239754676819,\n",
       "   0.06496696174144745,\n",
       "   -0.12529347836971283,\n",
       "   -0.013257263228297234,\n",
       "   -0.11368738859891891,\n",
       "   0.04190158098936081,\n",
       "   -0.18720059096813202,\n",
       "   0.09865973144769669,\n",
       "   -0.1662183701992035,\n",
       "   -0.3360735774040222,\n",
       "   0.4522421956062317,\n",
       "   -0.16714505851268768,\n",
       "   -0.31056880950927734,\n",
       "   0.1151529848575592,\n",
       "   0.16907262802124023,\n",
       "   0.042432136833667755,\n",
       "   0.4495176672935486,\n",
       "   0.17466531693935394,\n",
       "   -0.05362658202648163,\n",
       "   -0.06818578392267227,\n",
       "   -0.26357677578926086,\n",
       "   -0.5740921497344971,\n",
       "   0.3198973536491394,\n",
       "   0.15484072268009186,\n",
       "   0.09631697833538055,\n",
       "   0.16506095230579376,\n",
       "   -0.06118645891547203,\n",
       "   -0.11362573504447937,\n",
       "   -0.010033377446234226,\n",
       "   -0.060758076608181,\n",
       "   0.40874695777893066,\n",
       "   0.10532978922128677,\n",
       "   0.42054030299186707,\n",
       "   -0.19207943975925446,\n",
       "   0.36730921268463135,\n",
       "   -0.03282218426465988,\n",
       "   -0.4170425534248352,\n",
       "   0.22686922550201416,\n",
       "   0.07561225444078445,\n",
       "   -0.10863406211137772,\n",
       "   -0.08737126737833023,\n",
       "   0.3738443851470947,\n",
       "   -0.3828844130039215,\n",
       "   0.24504992365837097,\n",
       "   -0.12886817753314972,\n",
       "   0.2713443338871002,\n",
       "   0.051662009209394455,\n",
       "   0.1913534253835678,\n",
       "   -0.1111002117395401,\n",
       "   0.35479462146759033,\n",
       "   -0.021329721435904503,\n",
       "   0.2521405518054962,\n",
       "   -0.43473300337791443,\n",
       "   0.7520946264266968,\n",
       "   0.4622594714164734,\n",
       "   0.09630594402551651,\n",
       "   0.31897076964378357,\n",
       "   0.12114407122135162,\n",
       "   0.15920166671276093,\n",
       "   -0.07780835032463074,\n",
       "   -0.18384745717048645,\n",
       "   -0.09238824248313904,\n",
       "   0.5661265850067139,\n",
       "   0.12948988378047943,\n",
       "   0.2855294942855835,\n",
       "   -0.5598704814910889,\n",
       "   -0.07453352957963943,\n",
       "   0.26622411608695984,\n",
       "   0.4671311378479004,\n",
       "   0.208506777882576,\n",
       "   -0.4563559889793396,\n",
       "   -0.14586609601974487,\n",
       "   0.41196009516716003,\n",
       "   -0.47053274512290955,\n",
       "   -0.14116650819778442,\n",
       "   0.5097823143005371,\n",
       "   -0.16534389555454254,\n",
       "   -0.39926502108573914,\n",
       "   0.34489089250564575,\n",
       "   0.5546571016311646,\n",
       "   0.020511221140623093,\n",
       "   0.03875529766082764,\n",
       "   -0.022491993382573128,\n",
       "   -0.008546332828700542,\n",
       "   -0.054677046835422516,\n",
       "   -0.039566393941640854])]"
      ]
     },
     "execution_count": 7,
     "metadata": {},
     "output_type": "execute_result"
    }
   ],
   "source": [
    "# This shows the inside structure of the returned embedding file\n",
    "# The key is the node_id, the value is the embedding in list()\n",
    "list(dict_struc2vec_emb.items())[:1]"
   ]
  },
  {
   "cell_type": "markdown",
   "metadata": {},
   "source": [
    "# Load Evaluation Library and Perform Evaluation"
   ]
  },
  {
   "cell_type": "code",
   "execution_count": 8,
   "metadata": {},
   "outputs": [],
   "source": [
    "from semb.evaluations.classification import *\n",
    "from semb.evaluations.clustering import *\n",
    "from semb.evaluations.utils import *"
   ]
  },
  {
   "cell_type": "markdown",
   "metadata": {},
   "source": [
    "## Perform Classification"
   ]
  },
  {
   "cell_type": "code",
   "execution_count": 9,
   "metadata": {},
   "outputs": [
    {
     "name": "stdout",
     "output_type": "stream",
     "text": [
      "Read in 131 node labels.\n",
      ">>> Label 0 appears 32 times\n",
      ">>> Label 1 appears 32 times\n",
      ">>> Label 3 appears 35 times\n",
      ">>> Label 2 appears 32 times\n"
     ]
    }
   ],
   "source": [
    "# Read the label file with the get_label(fn) function\n",
    "dict_labels = get_label(\"./sample-data/labels/airport_Brazil_label.txt\")"
   ]
  },
  {
   "cell_type": "code",
   "execution_count": 10,
   "metadata": {},
   "outputs": [
    {
     "data": {
      "text/plain": [
       "{'overall': {'accuracy': {'mean': 0.771, 'std': 0.0545},\n",
       "  'f1_macro': {'mean': 0.7633, 'std': 0.0566},\n",
       "  'f1_micro': {'mean': 0.771, 'std': 0.0545},\n",
       "  'auc_micro': {'mean': 0.9183, 'std': 0.0278},\n",
       "  'auc_macro': {'mean': 0.9211, 'std': 0.0277}},\n",
       " 'detailed': {0: {'accuracy': 0.7778,\n",
       "   'f1_macro': 0.7515,\n",
       "   'f1_micro': 0.7778,\n",
       "   'auc_micro': 0.9223,\n",
       "   'auc_macro': 0.9218},\n",
       "  1: {'accuracy': 0.6923,\n",
       "   'f1_macro': 0.7035,\n",
       "   'f1_micro': 0.6923,\n",
       "   'auc_micro': 0.8664,\n",
       "   'auc_macro': 0.8688},\n",
       "  2: {'accuracy': 0.7308,\n",
       "   'f1_macro': 0.7045,\n",
       "   'f1_micro': 0.7308,\n",
       "   'auc_micro': 0.9413,\n",
       "   'auc_macro': 0.9383},\n",
       "  3: {'accuracy': 0.8462,\n",
       "   'f1_macro': 0.8421,\n",
       "   'f1_micro': 0.8462,\n",
       "   'auc_micro': 0.9433,\n",
       "   'auc_macro': 0.9487},\n",
       "  4: {'accuracy': 0.8077,\n",
       "   'f1_macro': 0.8148,\n",
       "   'f1_micro': 0.8077,\n",
       "   'auc_micro': 0.9181,\n",
       "   'auc_macro': 0.9281}}}"
      ]
     },
     "execution_count": 10,
     "metadata": {},
     "output_type": "execute_result"
    }
   ],
   "source": [
    "perform_classification(dict_struc2vec_emb, dict_labels)"
   ]
  },
  {
   "cell_type": "code",
   "execution_count": null,
   "metadata": {},
   "outputs": [],
   "source": []
  }
 ],
 "metadata": {
  "kernelspec": {
   "display_name": "SEMB",
   "language": "python",
   "name": "semb"
  },
  "language_info": {
   "codemirror_mode": {
    "name": "ipython",
    "version": 3
   },
   "file_extension": ".py",
   "mimetype": "text/x-python",
   "name": "python",
   "nbconvert_exporter": "python",
   "pygments_lexer": "ipython3",
   "version": "3.6.2"
  }
 },
 "nbformat": 4,
 "nbformat_minor": 4
}
