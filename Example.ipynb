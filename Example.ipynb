{
 "cells": [
  {
   "cell_type": "markdown",
   "metadata": {},
   "source": [
    "## Load Embedding Methods and Datasets "
   ]
  },
  {
   "cell_type": "code",
   "execution_count": 19,
   "metadata": {},
   "outputs": [
    {
     "name": "stdout",
     "output_type": "stream",
     "text": [
      "graphwave\n",
      "degree2\n",
      "drne\n",
      "node2vec\n",
      "degree\n",
      "role2vec\n",
      "line\n",
      "degree1\n",
      "struc2vec\n",
      "xnetmf\n",
      "multilens\n",
      "segk\n",
      "riwalk\n"
     ]
    }
   ],
   "source": [
    "from semb.methods import load as load_method\n",
    "from semb.methods import get_method_ids\n",
    "for mid in get_method_ids():\n",
    "    print(mid)\n",
    "    load_method(mid)"
   ]
  },
  {
   "cell_type": "markdown",
   "metadata": {},
   "source": [
    "These are the method_id for the existing datasets."
   ]
  },
  {
   "cell_type": "code",
   "execution_count": 20,
   "metadata": {},
   "outputs": [
    {
     "name": "stdout",
     "output_type": "stream",
     "text": [
      "BlogCatalog\n",
      "ICEWS\n",
      "Facebook\n",
      "DD6\n",
      "PPI\n",
      "airports\n"
     ]
    }
   ],
   "source": [
    "from semb.datasets import load as load_dataset\n",
    "from semb.datasets import get_dataset_ids\n",
    "for did in get_dataset_ids():\n",
    "    print(did)\n",
    "    load_dataset(did)"
   ]
  },
  {
   "cell_type": "markdown",
   "metadata": {},
   "source": [
    "These are the dataset_id for the existing datasets."
   ]
  },
  {
   "cell_type": "markdown",
   "metadata": {},
   "source": [
    "## Load Dataset"
   ]
  },
  {
   "cell_type": "code",
   "execution_count": 21,
   "metadata": {},
   "outputs": [],
   "source": [
    "# Get airports datasets\n",
    "DataProvider = load_dataset(\"airports\")\n",
    "Datasets = DataProvider().get_datasets()\n",
    "dataset_graph = DataProvider().load_dataset(Datasets[0])"
   ]
  },
  {
   "cell_type": "markdown",
   "metadata": {},
   "source": [
    "Note that there are three datasets in the airports dataset.\n",
    "\n",
    "Datasets\\[0\\] represents the BR-air traffic Dataset\n",
    "\n",
    "Datasets\\[1\\] represents the EU-air traffic Dataset\n",
    "\n",
    "Datasets\\[2\\] represents the US-air traffic Dataset"
   ]
  },
  {
   "cell_type": "code",
   "execution_count": 22,
   "metadata": {},
   "outputs": [],
   "source": [
    "# Example code for getting the other datasets\n",
    "DataProvider = load_dataset(\"Facebook\")\n",
    "Facebook_dataset = DataProvider().get_datasets()\n",
    "Facebook_graph = DataProvider().load_dataset(Facebook_dataset[0])"
   ]
  },
  {
   "cell_type": "markdown",
   "metadata": {},
   "source": [
    "## Get Embedding Result Using struc2vec"
   ]
  },
  {
   "cell_type": "code",
   "execution_count": 23,
   "metadata": {},
   "outputs": [
    {
     "name": "stdout",
     "output_type": "stream",
     "text": [
      "rm /Users/mark/GoogleDrive/UM/S4/GEMS/Git/StrucEmbeddingLibrary/semb/methods/struc2vec/pickles/weights_distances-layer-*.pickle\n"
     ]
    }
   ],
   "source": [
    "# Define a hyper-class to load the embedding method\n",
    "EmbMethodClass = load_method(\"struc2vec\")\n",
    "\n",
    "# Call the embedding method with the graph for initialization\n",
    "struc2vec = EmbMethodClass(dataset_graph, \n",
    "                           num_walks=10, \n",
    "                           walk_length=80, \n",
    "                           window_size=10, \n",
    "                           dim=128, \n",
    "                           opt1=True, opt2=True, opt3=True, until_layer=2)\n",
    "struc2vec.train()\n",
    "\n",
    "# Get the embedding result with the get_embeddings() method,\n",
    "# The return type is a dictionary with key as node_id and value as the embedding\n",
    "dict_struc2vec_emb = struc2vec.get_embeddings()"
   ]
  },
  {
   "cell_type": "code",
   "execution_count": 24,
   "metadata": {
    "scrolled": true
   },
   "outputs": [
    {
     "data": {
      "text/plain": [
       "{'dim': 128,\n",
       " 'walk_length': 80,\n",
       " 'num_walks': 10,\n",
       " 'window_size': 10,\n",
       " 'until_layer': None,\n",
       " 'iter': 5,\n",
       " 'workers': 1,\n",
       " 'weighted': False,\n",
       " 'directed': False,\n",
       " 'opt1': False,\n",
       " 'opt2': False,\n",
       " 'opt3': False}"
      ]
     },
     "execution_count": 24,
     "metadata": {},
     "output_type": "execute_result"
    }
   ],
   "source": [
    "# This shows the tunable hyper-parameters for the certain embedding method\n",
    "# Here, for example, list the tunable hyper-parameters for struc2vec\n",
    "EmbMethodClass.__PARAMS__"
   ]
  },
  {
   "cell_type": "code",
   "execution_count": 25,
   "metadata": {},
   "outputs": [
    {
     "data": {
      "text/plain": [
       "[(7,\n",
       "  [0.08278467506170273,\n",
       "   0.07463587075471878,\n",
       "   0.11284095048904419,\n",
       "   -0.38170960545539856,\n",
       "   -0.44573143124580383,\n",
       "   -0.3695821166038513,\n",
       "   0.43749380111694336,\n",
       "   0.05801921710371971,\n",
       "   -0.06056896224617958,\n",
       "   -0.25539231300354004,\n",
       "   -0.28077754378318787,\n",
       "   0.6167539358139038,\n",
       "   -0.25711169838905334,\n",
       "   -0.19481824338436127,\n",
       "   -0.11672115325927734,\n",
       "   0.31561076641082764,\n",
       "   0.033818796277046204,\n",
       "   0.17662350833415985,\n",
       "   -0.20374169945716858,\n",
       "   -0.061856288462877274,\n",
       "   -0.01047682948410511,\n",
       "   -0.34680068492889404,\n",
       "   -0.047683726996183395,\n",
       "   -0.3888072967529297,\n",
       "   -0.3265305757522583,\n",
       "   0.1867995709180832,\n",
       "   -0.46184617280960083,\n",
       "   0.16948775947093964,\n",
       "   0.18607781827449799,\n",
       "   -0.20094233751296997,\n",
       "   0.23065787553787231,\n",
       "   -0.17936761677265167,\n",
       "   -0.008089302107691765,\n",
       "   -0.00910465233027935,\n",
       "   0.040275901556015015,\n",
       "   0.15548869967460632,\n",
       "   -0.28457310795783997,\n",
       "   0.2947252094745636,\n",
       "   0.02417849563062191,\n",
       "   -0.19586694240570068,\n",
       "   -0.0436645932495594,\n",
       "   0.43967387080192566,\n",
       "   0.1877489984035492,\n",
       "   -0.36927929520606995,\n",
       "   0.1119677796959877,\n",
       "   0.24099579453468323,\n",
       "   0.3627120554447174,\n",
       "   0.21524685621261597,\n",
       "   0.18715715408325195,\n",
       "   -0.12193990498781204,\n",
       "   -0.2235763818025589,\n",
       "   0.1498042196035385,\n",
       "   0.17874780297279358,\n",
       "   0.2584029734134674,\n",
       "   -0.010129248723387718,\n",
       "   0.07218582183122635,\n",
       "   -0.1903703212738037,\n",
       "   0.45013684034347534,\n",
       "   -0.25088876485824585,\n",
       "   0.03218153864145279,\n",
       "   -0.25663456320762634,\n",
       "   -0.37627413868904114,\n",
       "   -0.47289329767227173,\n",
       "   -0.14708885550498962,\n",
       "   0.39384716749191284,\n",
       "   -0.05939590930938721,\n",
       "   -0.3406667411327362,\n",
       "   -0.24608516693115234,\n",
       "   -0.1843966841697693,\n",
       "   0.18765482306480408,\n",
       "   0.5091496706008911,\n",
       "   -0.278512179851532,\n",
       "   -0.009382839314639568,\n",
       "   -0.16341662406921387,\n",
       "   -0.3100512623786926,\n",
       "   -0.17929337918758392,\n",
       "   0.35760438442230225,\n",
       "   0.08649948239326477,\n",
       "   -0.13508884608745575,\n",
       "   -0.15694846212863922,\n",
       "   -0.5637235641479492,\n",
       "   -0.128734290599823,\n",
       "   0.2743256688117981,\n",
       "   0.5841439366340637,\n",
       "   -0.19284412264823914,\n",
       "   0.0730796530842781,\n",
       "   0.3989191949367523,\n",
       "   -0.45297160744667053,\n",
       "   0.1519734263420105,\n",
       "   0.35044801235198975,\n",
       "   -0.05864903703331947,\n",
       "   0.27282974123954773,\n",
       "   0.0781361535191536,\n",
       "   -0.4374701976776123,\n",
       "   -0.058524634689092636,\n",
       "   0.12969869375228882,\n",
       "   0.08985793590545654,\n",
       "   0.16996033489704132,\n",
       "   0.24306423962116241,\n",
       "   0.367860347032547,\n",
       "   0.9129403829574585,\n",
       "   -0.06709360331296921,\n",
       "   0.21071773767471313,\n",
       "   0.03579768165946007,\n",
       "   0.2556743621826172,\n",
       "   -0.1885918825864792,\n",
       "   0.6945531964302063,\n",
       "   -0.1055062785744667,\n",
       "   0.1700664609670639,\n",
       "   0.004383968189358711,\n",
       "   -0.19238539040088654,\n",
       "   0.13354533910751343,\n",
       "   -0.32228150963783264,\n",
       "   0.1915491223335266,\n",
       "   -0.08157896995544434,\n",
       "   0.19839824736118317,\n",
       "   -0.06578651815652847,\n",
       "   0.29891297221183777,\n",
       "   -0.04861604794859886,\n",
       "   0.5440706610679626,\n",
       "   0.6229761242866516,\n",
       "   -0.17501084506511688,\n",
       "   -0.6184687614440918,\n",
       "   -0.20177164673805237,\n",
       "   0.32445287704467773,\n",
       "   -0.22969409823417664,\n",
       "   0.46662676334381104,\n",
       "   -0.09731113165616989])]"
      ]
     },
     "execution_count": 25,
     "metadata": {},
     "output_type": "execute_result"
    }
   ],
   "source": [
    "# This shows the inside structure of the returned embedding file\n",
    "# The key is the node_id, the value is the embedding in list()\n",
    "list(dict_struc2vec_emb.items())[:1]"
   ]
  },
  {
   "cell_type": "markdown",
   "metadata": {},
   "source": [
    "## Load Evaluation Library and Perform Evaluation"
   ]
  },
  {
   "cell_type": "code",
   "execution_count": 26,
   "metadata": {},
   "outputs": [],
   "source": [
    "from semb.evaluations.classification import *\n",
    "from semb.evaluations.clustering import *\n",
    "from semb.evaluations.utils import *"
   ]
  },
  {
   "cell_type": "markdown",
   "metadata": {},
   "source": [
    "### Perform Classification"
   ]
  },
  {
   "cell_type": "code",
   "execution_count": 27,
   "metadata": {},
   "outputs": [
    {
     "name": "stdout",
     "output_type": "stream",
     "text": [
      "Read in 131 node labels.\n",
      ">>> Label 0 appears 32 times\n",
      ">>> Label 1 appears 32 times\n",
      ">>> Label 3 appears 35 times\n",
      ">>> Label 2 appears 32 times\n"
     ]
    }
   ],
   "source": [
    "# Read the label file with the get_label(fn) function\n",
    "dict_labels = get_label(\"./sample-data/labels/airport_Brazil_label.txt\")"
   ]
  },
  {
   "cell_type": "code",
   "execution_count": 28,
   "metadata": {},
   "outputs": [
    {
     "data": {
      "text/plain": [
       "{'overall': {'accuracy': {'mean': 0.7863, 'std': 0.0622},\n",
       "  'f1_macro': {'mean': 0.7774, 'std': 0.0612},\n",
       "  'f1_micro': {'mean': 0.7863, 'std': 0.0622},\n",
       "  'auc_micro': {'mean': 0.9234, 'std': 0.0288},\n",
       "  'auc_macro': {'mean': 0.9314, 'std': 0.0261}},\n",
       " 'detailed': {0: {'accuracy': 0.7778,\n",
       "   'f1_macro': 0.747,\n",
       "   'f1_micro': 0.7778,\n",
       "   'auc_micro': 0.9255,\n",
       "   'auc_macro': 0.9362},\n",
       "  1: {'accuracy': 0.6923,\n",
       "   'f1_macro': 0.7035,\n",
       "   'f1_micro': 0.6923,\n",
       "   'auc_micro': 0.8728,\n",
       "   'auc_macro': 0.8881},\n",
       "  2: {'accuracy': 0.7692,\n",
       "   'f1_macro': 0.7448,\n",
       "   'f1_micro': 0.7692,\n",
       "   'auc_micro': 0.9359,\n",
       "   'auc_macro': 0.9297},\n",
       "  3: {'accuracy': 0.8846,\n",
       "   'f1_macro': 0.8769,\n",
       "   'f1_micro': 0.8846,\n",
       "   'auc_micro': 0.961,\n",
       "   'auc_macro': 0.97},\n",
       "  4: {'accuracy': 0.8077,\n",
       "   'f1_macro': 0.8148,\n",
       "   'f1_micro': 0.8077,\n",
       "   'auc_micro': 0.9216,\n",
       "   'auc_macro': 0.9332}}}"
      ]
     },
     "execution_count": 28,
     "metadata": {},
     "output_type": "execute_result"
    }
   ],
   "source": [
    "perform_classification(dict_struc2vec_emb, dict_labels)"
   ]
  },
  {
   "cell_type": "markdown",
   "metadata": {},
   "source": [
    "### Perform Clustering"
   ]
  },
  {
   "cell_type": "code",
   "execution_count": 29,
   "metadata": {},
   "outputs": [
    {
     "name": "stderr",
     "output_type": "stream",
     "text": [
      "/Library/Frameworks/Python.framework/Versions/3.6/lib/python3.6/site-packages/sklearn/metrics/cluster/supervised.py:859: FutureWarning: The behavior of NMI will change in version 0.22. To match the behavior of 'v_measure_score', NMI will use average_method='arithmetic' by default.\n",
      "  FutureWarning)\n"
     ]
    },
    {
     "data": {
      "text/plain": [
       "{'overall': {'purity': [0.6641221374045801], 'nmi': [0.4661859253253555]}}"
      ]
     },
     "execution_count": 29,
     "metadata": {},
     "output_type": "execute_result"
    }
   ],
   "source": [
    "perform_clustering(dict_struc2vec_emb, dict_labels)"
   ]
  },
  {
   "cell_type": "markdown",
   "metadata": {},
   "source": [
    "## Perform Centrality Correlation"
   ]
  },
  {
   "cell_type": "code",
   "execution_count": 30,
   "metadata": {},
   "outputs": [
    {
     "data": {
      "text/plain": [
       "0.9482621398890526"
      ]
     },
     "execution_count": 30,
     "metadata": {},
     "output_type": "execute_result"
    }
   ],
   "source": [
    "from semb.evaluations.centrality_correlation import *\n",
    "centrality_correlation(dataset_graph, \n",
    "                       dict_struc2vec_emb, \n",
    "                       centrality='clustering_coeff', \n",
    "                       similarity='euclidean')"
   ]
  },
  {
   "cell_type": "code",
   "execution_count": null,
   "metadata": {},
   "outputs": [],
   "source": []
  }
 ],
 "metadata": {
  "kernelspec": {
   "display_name": "SEMB",
   "language": "python",
   "name": "semb"
  },
  "language_info": {
   "codemirror_mode": {
    "name": "ipython",
    "version": 3
   },
   "file_extension": ".py",
   "mimetype": "text/x-python",
   "name": "python",
   "nbconvert_exporter": "python",
   "pygments_lexer": "ipython3",
   "version": "3.6.2"
  }
 },
 "nbformat": 4,
 "nbformat_minor": 4
}
