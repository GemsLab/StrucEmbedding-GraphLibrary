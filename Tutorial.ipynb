{
 "cells": [
  {
   "cell_type": "markdown",
   "metadata": {},
   "source": [
    "# 1. Loading  Datasets"
   ]
  },
  {
   "cell_type": "code",
   "execution_count": 1,
   "metadata": {},
   "outputs": [
    {
     "name": "stdout",
     "output_type": "stream",
     "text": [
      "Synthetic_Regular\n",
      "BlogCatalog\n",
      "ICEWS\n",
      "Facebook\n",
      "Synthetic_Role\n",
      "DD6\n",
      "PPI\n",
      "airports\n"
     ]
    }
   ],
   "source": [
    "from semb.datasets import load as load_dataset\n",
    "from semb.datasets import get_dataset_ids\n",
    "for did in get_dataset_ids():\n",
    "    print(did)\n",
    "    load_dataset(did)"
   ]
  },
  {
   "cell_type": "markdown",
   "metadata": {},
   "source": [
    "These are the `dataset_id` for the existing datasets."
   ]
  },
  {
   "cell_type": "markdown",
   "metadata": {},
   "source": [
    "## 1.1 Load Specific Dataset"
   ]
  },
  {
   "cell_type": "markdown",
   "metadata": {},
   "source": [
    "### Load Built-in Dataset (Graph)"
   ]
  },
  {
   "cell_type": "code",
   "execution_count": 2,
   "metadata": {},
   "outputs": [],
   "source": [
    "# Get airports datasets\n",
    "DataProvider = load_dataset(\"airports\")\n",
    "Datasets = DataProvider().get_datasets()"
   ]
  },
  {
   "cell_type": "markdown",
   "metadata": {},
   "source": [
    "`Datasets` contain all the datasets with the identifier `airports`"
   ]
  },
  {
   "cell_type": "code",
   "execution_count": 3,
   "metadata": {},
   "outputs": [
    {
     "data": {
      "text/plain": [
       "[DatasetInfo(name='0 - brazil', description='Brazil airport sample data', src_url='/Users/mark/GoogleDrive/UM/S4/GEMS/Git/StrucEmbeddingLibrary/semb/datasets/airports/../../../sample-data/Airports/airport_Brazil/brazil-airports.edgelist', label_url='/Users/mark/GoogleDrive/UM/S4/GEMS/Git/StrucEmbeddingLibrary/semb/datasets/airports/../../../sample-data/Airports/airport_Brazil/airport_Brazil_label.txt'),\n",
       " DatasetInfo(name='1 - european', description='European airport sample data', src_url='/Users/mark/GoogleDrive/UM/S4/GEMS/Git/StrucEmbeddingLibrary/semb/datasets/airports/../../../sample-data/Airports/airport_European/europe-airports.edgelist', label_url='/Users/mark/GoogleDrive/UM/S4/GEMS/Git/StrucEmbeddingLibrary/semb/datasets/airports/../../../sample-data/Airports/airport_European/airport_European_label.txt'),\n",
       " DatasetInfo(name='2 - US', description='European airport sample data', src_url='/Users/mark/GoogleDrive/UM/S4/GEMS/Git/StrucEmbeddingLibrary/semb/datasets/airports/../../../sample-data/Airports/airport_US/usa-airports.edgelist', label_url='/Users/mark/GoogleDrive/UM/S4/GEMS/Git/StrucEmbeddingLibrary/semb/datasets/airports/../../../sample-data/Airports/airport_US/airport_USA_label.txt')]"
      ]
     },
     "execution_count": 3,
     "metadata": {},
     "output_type": "execute_result"
    }
   ],
   "source": [
    "Datasets"
   ]
  },
  {
   "cell_type": "markdown",
   "metadata": {},
   "source": [
    "For example, to get the Br-Air traffic dataset, which is the first in the Datasets list. "
   ]
  },
  {
   "cell_type": "code",
   "execution_count": 4,
   "metadata": {},
   "outputs": [],
   "source": [
    "dataset_graph = DataProvider().load_dataset(Datasets[0])"
   ]
  },
  {
   "cell_type": "markdown",
   "metadata": {},
   "source": [
    "The loaded graph will have the type of `networkx.Graph()`"
   ]
  },
  {
   "cell_type": "code",
   "execution_count": 5,
   "metadata": {},
   "outputs": [
    {
     "data": {
      "text/plain": [
       "<networkx.classes.graph.Graph at 0x7ff4fceb2f28>"
      ]
     },
     "execution_count": 5,
     "metadata": {},
     "output_type": "execute_result"
    }
   ],
   "source": [
    "dataset_graph"
   ]
  },
  {
   "cell_type": "markdown",
   "metadata": {},
   "source": [
    "### Load Built-in Dataset (Graph)"
   ]
  },
  {
   "cell_type": "markdown",
   "metadata": {},
   "source": [
    "If the built-in dataset contains the corresponding label, call the `load_label()` function to get the label."
   ]
  },
  {
   "cell_type": "code",
   "execution_count": 6,
   "metadata": {},
   "outputs": [
    {
     "name": "stdout",
     "output_type": "stream",
     "text": [
      "Read in 131 node labels.\n",
      ">>> Label 0 appears 32 times\n",
      ">>> Label 1 appears 32 times\n",
      ">>> Label 3 appears 35 times\n",
      ">>> Label 2 appears 32 times\n"
     ]
    }
   ],
   "source": [
    "dataset_label = DataProvider().load_label(Datasets[0])"
   ]
  },
  {
   "cell_type": "markdown",
   "metadata": {},
   "source": [
    "## 1.2 Load Customized Dataset"
   ]
  },
  {
   "cell_type": "markdown",
   "metadata": {},
   "source": [
    "### 1.2.1 Load Customized Dataset (Graph)"
   ]
  },
  {
   "cell_type": "markdown",
   "metadata": {},
   "source": [
    "SEMB is compatible with all the *undirected, unweighted* `networkx.Graph()` data as input"
   ]
  },
  {
   "cell_type": "markdown",
   "metadata": {},
   "source": [
    "### 1.2.2 Load Customized Dataset (Label)"
   ]
  },
  {
   "cell_type": "markdown",
   "metadata": {},
   "source": [
    "Call the `get_label(input_dir, delimeter)` function to load customized label file. Please make sure each line of the label file aligns with the following format.\n",
    "\n",
    "\\<Node_id(int)\\> \\<delimeter\\> \\<Label_id(int)\\>\n",
    "\n",
    "The default delimeter is blank."
   ]
  },
  {
   "cell_type": "code",
   "execution_count": 7,
   "metadata": {},
   "outputs": [],
   "source": [
    "from semb.evaluations.utils import *"
   ]
  },
  {
   "cell_type": "code",
   "execution_count": 8,
   "metadata": {},
   "outputs": [
    {
     "name": "stdout",
     "output_type": "stream",
     "text": [
      "Read in 131 node labels.\n",
      ">>> Label 2 appears 31 times\n",
      ">>> Label 1 appears 81 times\n",
      ">>> Label 0 appears 19 times\n"
     ]
    }
   ],
   "source": [
    "dict_customized_labels = \\\n",
    "get_label(\"./sample-data/labels/airport_Brazil_log_label.txt\")"
   ]
  },
  {
   "cell_type": "markdown",
   "metadata": {},
   "source": [
    "# 2. Load Embedding Methods"
   ]
  },
  {
   "cell_type": "code",
   "execution_count": 37,
   "metadata": {},
   "outputs": [
    {
     "name": "stdout",
     "output_type": "stream",
     "text": [
      "graphwave\n",
      "degree2\n",
      "drne\n",
      "node2vec\n",
      "degree\n",
      "gae\n",
      "role2vec\n",
      "line\n",
      "degree1\n",
      "struc2vec\n",
      "xnetmf\n",
      "multilens\n",
      "segk\n",
      "riwalk\n"
     ]
    }
   ],
   "source": [
    "from semb.methods import load as load_method\n",
    "from semb.methods import get_method_ids\n",
    "for mid in get_method_ids():\n",
    "    print(mid)\n",
    "    load_method(mid)"
   ]
  },
  {
   "cell_type": "markdown",
   "metadata": {},
   "source": [
    "These are the `method_id` for the existing datasets."
   ]
  },
  {
   "cell_type": "markdown",
   "metadata": {},
   "source": [
    "## 2.1 Load Specific Embedding Method"
   ]
  },
  {
   "cell_type": "code",
   "execution_count": 10,
   "metadata": {},
   "outputs": [],
   "source": [
    "EmbMethodClassXnetmf = load_method(\"xnetmf\")"
   ]
  },
  {
   "cell_type": "markdown",
   "metadata": {},
   "source": [
    "Show the tunable parameters of the xNetMF method"
   ]
  },
  {
   "cell_type": "code",
   "execution_count": 11,
   "metadata": {},
   "outputs": [
    {
     "data": {
      "text/plain": [
       "{'dim': 128, 'max_layer': 2, 'discount': 0.1, 'gamma': 1}"
      ]
     },
     "execution_count": 11,
     "metadata": {},
     "output_type": "execute_result"
    }
   ],
   "source": [
    "EmbMethodClassXnetmf.__PARAMS__"
   ]
  },
  {
   "cell_type": "markdown",
   "metadata": {},
   "source": [
    "# 3. Get Embedding"
   ]
  },
  {
   "cell_type": "markdown",
   "metadata": {},
   "source": [
    "## 3.1 Embedding with xNetMF"
   ]
  },
  {
   "cell_type": "markdown",
   "metadata": {},
   "source": [
    "Initialize the embedding method with i) the target graph to embed 2)the tunable parameters."
   ]
  },
  {
   "cell_type": "code",
   "execution_count": 12,
   "metadata": {},
   "outputs": [],
   "source": [
    "xnetmf = EmbMethodClassXnetmf(dataset_graph,\n",
    "                              dim = 128,\n",
    "                              max_layer = 2,\n",
    "                              discount = 0.1,\n",
    "                              gamma = 1)"
   ]
  },
  {
   "cell_type": "markdown",
   "metadata": {},
   "source": [
    "Call the `train()` function to start the embedding process."
   ]
  },
  {
   "cell_type": "code",
   "execution_count": 13,
   "metadata": {},
   "outputs": [
    {
     "name": "stdout",
     "output_type": "stream",
     "text": [
      "max degree:  80\n",
      "got k hop neighbors in time:  0.061563968658447266\n",
      "got degree sequences in time:  0.020946979522705078\n",
      "computed representation in time:  0.023149967193603516\n"
     ]
    }
   ],
   "source": [
    "xnetmf.train()"
   ]
  },
  {
   "cell_type": "markdown",
   "metadata": {},
   "source": [
    "Call the `get_embeddings()` function to get the embedding file."
   ]
  },
  {
   "cell_type": "code",
   "execution_count": 14,
   "metadata": {},
   "outputs": [],
   "source": [
    "dict_xnetmf_emb = xnetmf.get_embeddings()"
   ]
  },
  {
   "cell_type": "markdown",
   "metadata": {},
   "source": [
    "## 3.2 Embedding with struc2vec"
   ]
  },
  {
   "cell_type": "code",
   "execution_count": 15,
   "metadata": {},
   "outputs": [
    {
     "data": {
      "text/plain": [
       "{'dim': 128,\n",
       " 'walk_length': 80,\n",
       " 'num_walks': 10,\n",
       " 'window_size': 10,\n",
       " 'until_layer': None,\n",
       " 'iter': 5,\n",
       " 'workers': 1,\n",
       " 'weighted': False,\n",
       " 'directed': False,\n",
       " 'opt1': False,\n",
       " 'opt2': False,\n",
       " 'opt3': False}"
      ]
     },
     "execution_count": 15,
     "metadata": {},
     "output_type": "execute_result"
    }
   ],
   "source": [
    "EmbMethodClass = load_method(\"struc2vec\")\n",
    "EmbMethodClass.__PARAMS__"
   ]
  },
  {
   "cell_type": "code",
   "execution_count": 16,
   "metadata": {},
   "outputs": [
    {
     "name": "stdout",
     "output_type": "stream",
     "text": [
      "rm /Users/mark/GoogleDrive/UM/S4/GEMS/Git/StrucEmbeddingLibrary/semb/methods/struc2vec/pickles/weights_distances-layer-*.pickle\n"
     ]
    }
   ],
   "source": [
    "struc2vec = EmbMethodClass(dataset_graph, \n",
    "                           num_walks=10, \n",
    "                           walk_length=80, \n",
    "                           window_size=10, \n",
    "                           dim=128, \n",
    "                           opt1=True, opt2=True, opt3=True, until_layer=2)\n",
    "struc2vec.train()\n",
    "dict_struc2vec_emb = struc2vec.get_embeddings()"
   ]
  },
  {
   "cell_type": "markdown",
   "metadata": {},
   "source": [
    "## 3.3 Embedding with node2vec"
   ]
  },
  {
   "cell_type": "code",
   "execution_count": 17,
   "metadata": {},
   "outputs": [
    {
     "data": {
      "text/plain": [
       "{'dim': 128,\n",
       " 'walk_length': 80,\n",
       " 'num_walks': 10,\n",
       " 'window_size': 10,\n",
       " 'iter': 1,\n",
       " 'workers': 1,\n",
       " 'p': 1,\n",
       " 'q': 1,\n",
       " 'weighted': False,\n",
       " 'directed': False}"
      ]
     },
     "execution_count": 17,
     "metadata": {},
     "output_type": "execute_result"
    }
   ],
   "source": [
    "EmbMethodClass = load_method(\"node2vec\")\n",
    "EmbMethodClass.__PARAMS__"
   ]
  },
  {
   "cell_type": "code",
   "execution_count": 18,
   "metadata": {},
   "outputs": [],
   "source": [
    "node2vec = EmbMethodClass(dataset_graph, p=1, q=4, iter=5)\n",
    "node2vec.train()\n",
    "dict_node2vec_emb = node2vec.get_embeddings()"
   ]
  },
  {
   "cell_type": "markdown",
   "metadata": {},
   "source": [
    "# 4. Classification and Clustering Evaluation"
   ]
  },
  {
   "cell_type": "code",
   "execution_count": 19,
   "metadata": {},
   "outputs": [],
   "source": [
    "from semb.evaluations.classification import *\n",
    "from semb.evaluations.clustering import *\n",
    "from semb.evaluations.utils import *"
   ]
  },
  {
   "cell_type": "markdown",
   "metadata": {},
   "source": [
    "## 4.1 Classification "
   ]
  },
  {
   "cell_type": "markdown",
   "metadata": {},
   "source": [
    "### 4.1.1 Perform Classification"
   ]
  },
  {
   "cell_type": "markdown",
   "metadata": {},
   "source": [
    "Call the `perform_classification(dict_emb, dict_label)` function to perform classification."
   ]
  },
  {
   "cell_type": "code",
   "execution_count": 20,
   "metadata": {},
   "outputs": [],
   "source": [
    "dict_xnetmf_classification = \\\n",
    "perform_classification(dict_xnetmf_emb, dataset_label)"
   ]
  },
  {
   "cell_type": "code",
   "execution_count": 21,
   "metadata": {},
   "outputs": [
    {
     "data": {
      "text/plain": [
       "{'overall': {'accuracy': {'mean': 0.7026, 'std': 0.0771},\n",
       "  'f1_macro': {'mean': 0.6841, 'std': 0.0785},\n",
       "  'f1_micro': {'mean': 0.7026, 'std': 0.0771},\n",
       "  'auc_micro': {'mean': 0.9007, 'std': 0.046},\n",
       "  'auc_macro': {'mean': 0.9098, 'std': 0.0451}},\n",
       " 'detailed': {0: {'accuracy': 0.6667,\n",
       "   'f1_macro': 0.6293,\n",
       "   'f1_micro': 0.6667,\n",
       "   'auc_micro': 0.8967,\n",
       "   'auc_macro': 0.901},\n",
       "  1: {'accuracy': 0.5769,\n",
       "   'f1_macro': 0.5673,\n",
       "   'f1_micro': 0.5769,\n",
       "   'auc_micro': 0.822,\n",
       "   'auc_macro': 0.8336},\n",
       "  2: {'accuracy': 0.8077,\n",
       "   'f1_macro': 0.7939,\n",
       "   'f1_micro': 0.8077,\n",
       "   'auc_micro': 0.9596,\n",
       "   'auc_macro': 0.9634},\n",
       "  3: {'accuracy': 0.7308,\n",
       "   'f1_macro': 0.7049,\n",
       "   'f1_micro': 0.7308,\n",
       "   'auc_micro': 0.93,\n",
       "   'auc_macro': 0.947},\n",
       "  4: {'accuracy': 0.7308,\n",
       "   'f1_macro': 0.725,\n",
       "   'f1_micro': 0.7308,\n",
       "   'auc_micro': 0.895,\n",
       "   'auc_macro': 0.904}}}"
      ]
     },
     "execution_count": 21,
     "metadata": {},
     "output_type": "execute_result"
    }
   ],
   "source": [
    "dict_xnetmf_classification"
   ]
  },
  {
   "cell_type": "code",
   "execution_count": 22,
   "metadata": {},
   "outputs": [],
   "source": [
    "dict_struc2vec_classification = \\\n",
    "perform_classification(dict_struc2vec_emb, dataset_label)"
   ]
  },
  {
   "cell_type": "code",
   "execution_count": 23,
   "metadata": {},
   "outputs": [],
   "source": [
    "dict_node2vec_classification = \\\n",
    "perform_classification(dict_node2vec_emb, dataset_label)"
   ]
  },
  {
   "cell_type": "markdown",
   "metadata": {},
   "source": [
    "### 4.1.2 Show Results in a Concatenated Table"
   ]
  },
  {
   "cell_type": "code",
   "execution_count": 24,
   "metadata": {},
   "outputs": [
    {
     "data": {
      "text/html": [
       "<div>\n",
       "<style scoped>\n",
       "    .dataframe tbody tr th:only-of-type {\n",
       "        vertical-align: middle;\n",
       "    }\n",
       "\n",
       "    .dataframe tbody tr th {\n",
       "        vertical-align: top;\n",
       "    }\n",
       "\n",
       "    .dataframe thead th {\n",
       "        text-align: right;\n",
       "    }\n",
       "</style>\n",
       "<table border=\"1\" class=\"dataframe\">\n",
       "  <thead>\n",
       "    <tr style=\"text-align: right;\">\n",
       "      <th></th>\n",
       "      <th>methods</th>\n",
       "      <th>accuracy_mean</th>\n",
       "      <th>accuracy_std</th>\n",
       "      <th>f1_macro_mean</th>\n",
       "      <th>f1_macro_std</th>\n",
       "      <th>f1_micro_mean</th>\n",
       "      <th>f1_micro_std</th>\n",
       "      <th>auc_micro_mean</th>\n",
       "      <th>auc_micro_std</th>\n",
       "      <th>auc_macro_mean</th>\n",
       "      <th>auc_macro_std</th>\n",
       "    </tr>\n",
       "  </thead>\n",
       "  <tbody>\n",
       "    <tr>\n",
       "      <th>0</th>\n",
       "      <td>xnetmf</td>\n",
       "      <td>0.7026</td>\n",
       "      <td>0.0771</td>\n",
       "      <td>0.6841</td>\n",
       "      <td>0.0785</td>\n",
       "      <td>0.7026</td>\n",
       "      <td>0.0771</td>\n",
       "      <td>0.9007</td>\n",
       "      <td>0.0460</td>\n",
       "      <td>0.9098</td>\n",
       "      <td>0.0451</td>\n",
       "    </tr>\n",
       "    <tr>\n",
       "      <th>1</th>\n",
       "      <td>struc2vec</td>\n",
       "      <td>0.8168</td>\n",
       "      <td>0.0661</td>\n",
       "      <td>0.8166</td>\n",
       "      <td>0.0612</td>\n",
       "      <td>0.8168</td>\n",
       "      <td>0.0661</td>\n",
       "      <td>0.9212</td>\n",
       "      <td>0.0341</td>\n",
       "      <td>0.9256</td>\n",
       "      <td>0.0358</td>\n",
       "    </tr>\n",
       "    <tr>\n",
       "      <th>2</th>\n",
       "      <td>node2vec</td>\n",
       "      <td>0.4271</td>\n",
       "      <td>0.0755</td>\n",
       "      <td>0.3991</td>\n",
       "      <td>0.0732</td>\n",
       "      <td>0.4271</td>\n",
       "      <td>0.0755</td>\n",
       "      <td>0.6484</td>\n",
       "      <td>0.0250</td>\n",
       "      <td>0.6338</td>\n",
       "      <td>0.0327</td>\n",
       "    </tr>\n",
       "  </tbody>\n",
       "</table>\n",
       "</div>"
      ],
      "text/plain": [
       "     methods  accuracy_mean  accuracy_std  f1_macro_mean  f1_macro_std  \\\n",
       "0     xnetmf         0.7026        0.0771         0.6841        0.0785   \n",
       "1  struc2vec         0.8168        0.0661         0.8166        0.0612   \n",
       "2   node2vec         0.4271        0.0755         0.3991        0.0732   \n",
       "\n",
       "   f1_micro_mean  f1_micro_std  auc_micro_mean  auc_micro_std  auc_macro_mean  \\\n",
       "0         0.7026        0.0771          0.9007         0.0460          0.9098   \n",
       "1         0.8168        0.0661          0.9212         0.0341          0.9256   \n",
       "2         0.4271        0.0755          0.6484         0.0250          0.6338   \n",
       "\n",
       "   auc_macro_std  \n",
       "0         0.0451  \n",
       "1         0.0358  \n",
       "2         0.0327  "
      ]
     },
     "execution_count": 24,
     "metadata": {},
     "output_type": "execute_result"
    }
   ],
   "source": [
    "concatenate_result_pd([(\"xnetmf\", dict_xnetmf_classification), \n",
    "                       (\"struc2vec\", dict_struc2vec_classification),\n",
    "                       (\"node2vec\", dict_node2vec_classification)])"
   ]
  },
  {
   "cell_type": "markdown",
   "metadata": {},
   "source": [
    "### 4.1.3 Bar-plot Visualization for Classification"
   ]
  },
  {
   "cell_type": "code",
   "execution_count": 25,
   "metadata": {},
   "outputs": [],
   "source": [
    "from semb.evaluations.visualization import *"
   ]
  },
  {
   "cell_type": "code",
   "execution_count": 26,
   "metadata": {},
   "outputs": [
    {
     "data": {
      "image/png": "[encoded data removed]",
      "text/plain": [
       "<Figure size 2400x750 with 1 Axes>"
      ]
     },
     "metadata": {
      "needs_background": "light"
     },
     "output_type": "display_data"
    }
   ],
   "source": [
    "visualize_classification([(\"xnetmf\", dict_xnetmf_classification), \n",
    "                          (\"struc2vec\", dict_struc2vec_classification),\n",
    "                          (\"node2vec\", dict_node2vec_classification)],\n",
    "                         metric='f1_macro', error_bar=True, rotation_deg=45 )"
   ]
  },
  {
   "cell_type": "markdown",
   "metadata": {},
   "source": [
    "## 4.2 Clustering"
   ]
  },
  {
   "cell_type": "markdown",
   "metadata": {},
   "source": [
    "## 4.2.1 Perform Clustering"
   ]
  },
  {
   "cell_type": "markdown",
   "metadata": {},
   "source": [
    "Call the `perform_classification(dict_emb, dict_label)` function to perform classification."
   ]
  },
  {
   "cell_type": "code",
   "execution_count": 27,
   "metadata": {},
   "outputs": [
    {
     "name": "stderr",
     "output_type": "stream",
     "text": [
      "/Users/mark/GoogleDrive/UM/S4/GEMS/Git/SEMB_env/lib/python3.6/site-packages/sklearn/metrics/cluster/supervised.py:859: FutureWarning: The behavior of NMI will change in version 0.22. To match the behavior of 'v_measure_score', NMI will use average_method='arithmetic' by default.\n",
      "  FutureWarning)\n"
     ]
    }
   ],
   "source": [
    "dict_xnetmf_clustering = \\\n",
    "perform_clustering(dict_xnetmf_emb, dataset_label)"
   ]
  },
  {
   "cell_type": "code",
   "execution_count": 28,
   "metadata": {},
   "outputs": [
    {
     "data": {
      "text/plain": [
       "{'overall': {'purity': 0.4732824427480916, 'nmi': 0.29277522884736923}}"
      ]
     },
     "execution_count": 28,
     "metadata": {},
     "output_type": "execute_result"
    }
   ],
   "source": [
    "dict_xnetmf_clustering"
   ]
  },
  {
   "cell_type": "code",
   "execution_count": 29,
   "metadata": {},
   "outputs": [
    {
     "name": "stderr",
     "output_type": "stream",
     "text": [
      "/Users/mark/GoogleDrive/UM/S4/GEMS/Git/SEMB_env/lib/python3.6/site-packages/sklearn/metrics/cluster/supervised.py:859: FutureWarning: The behavior of NMI will change in version 0.22. To match the behavior of 'v_measure_score', NMI will use average_method='arithmetic' by default.\n",
      "  FutureWarning)\n"
     ]
    }
   ],
   "source": [
    "dict_struc2vec_clustering = \\\n",
    "perform_clustering(dict_struc2vec_emb, dataset_label)"
   ]
  },
  {
   "cell_type": "code",
   "execution_count": 30,
   "metadata": {},
   "outputs": [
    {
     "name": "stderr",
     "output_type": "stream",
     "text": [
      "/Users/mark/GoogleDrive/UM/S4/GEMS/Git/SEMB_env/lib/python3.6/site-packages/sklearn/metrics/cluster/supervised.py:859: FutureWarning: The behavior of NMI will change in version 0.22. To match the behavior of 'v_measure_score', NMI will use average_method='arithmetic' by default.\n",
      "  FutureWarning)\n"
     ]
    }
   ],
   "source": [
    "dict_node2vec_clustering = \\\n",
    "perform_clustering(dict_node2vec_emb, dataset_label)"
   ]
  },
  {
   "cell_type": "markdown",
   "metadata": {},
   "source": [
    "### 4.2.2 Show Results in a Concatenated Table"
   ]
  },
  {
   "cell_type": "code",
   "execution_count": 31,
   "metadata": {},
   "outputs": [
    {
     "data": {
      "text/html": [
       "<div>\n",
       "<style scoped>\n",
       "    .dataframe tbody tr th:only-of-type {\n",
       "        vertical-align: middle;\n",
       "    }\n",
       "\n",
       "    .dataframe tbody tr th {\n",
       "        vertical-align: top;\n",
       "    }\n",
       "\n",
       "    .dataframe thead th {\n",
       "        text-align: right;\n",
       "    }\n",
       "</style>\n",
       "<table border=\"1\" class=\"dataframe\">\n",
       "  <thead>\n",
       "    <tr style=\"text-align: right;\">\n",
       "      <th></th>\n",
       "      <th>methods</th>\n",
       "      <th>purity</th>\n",
       "      <th>nmi</th>\n",
       "    </tr>\n",
       "  </thead>\n",
       "  <tbody>\n",
       "    <tr>\n",
       "      <th>0</th>\n",
       "      <td>xnetmf</td>\n",
       "      <td>0.473282</td>\n",
       "      <td>0.292775</td>\n",
       "    </tr>\n",
       "    <tr>\n",
       "      <th>1</th>\n",
       "      <td>struc2vec</td>\n",
       "      <td>0.679389</td>\n",
       "      <td>0.495486</td>\n",
       "    </tr>\n",
       "    <tr>\n",
       "      <th>2</th>\n",
       "      <td>node2vec</td>\n",
       "      <td>0.335878</td>\n",
       "      <td>0.075801</td>\n",
       "    </tr>\n",
       "  </tbody>\n",
       "</table>\n",
       "</div>"
      ],
      "text/plain": [
       "     methods    purity       nmi\n",
       "0     xnetmf  0.473282  0.292775\n",
       "1  struc2vec  0.679389  0.495486\n",
       "2   node2vec  0.335878  0.075801"
      ]
     },
     "execution_count": 31,
     "metadata": {},
     "output_type": "execute_result"
    }
   ],
   "source": [
    "concatenate_result_pd([(\"xnetmf\", dict_xnetmf_clustering), \n",
    "                       (\"struc2vec\", dict_struc2vec_clustering),\n",
    "                       (\"node2vec\", dict_node2vec_clustering)])"
   ]
  },
  {
   "cell_type": "markdown",
   "metadata": {},
   "source": [
    "### 4.2.3 Bar-plot Visualization for Clustering"
   ]
  },
  {
   "cell_type": "code",
   "execution_count": 32,
   "metadata": {},
   "outputs": [
    {
     "data": {
      "image/png": "[encoded data removed]",
      "text/plain": [
       "<Figure size 2400x750 with 1 Axes>"
      ]
     },
     "metadata": {},
     "output_type": "display_data"
    }
   ],
   "source": [
    "visualize_clustering([(\"xnetmf\", dict_xnetmf_clustering), \n",
    "                      (\"struc2vec\", dict_struc2vec_clustering),\n",
    "                      (\"node2vec\", dict_node2vec_clustering)],\n",
    "                    metric='purity', rotation_deg=45)"
   ]
  },
  {
   "cell_type": "markdown",
   "metadata": {},
   "source": [
    "# 5. Perform Centrality Correlation Evaluation"
   ]
  },
  {
   "cell_type": "code",
   "execution_count": 33,
   "metadata": {},
   "outputs": [],
   "source": [
    "from semb.evaluations.centrality_correlation import *"
   ]
  },
  {
   "cell_type": "code",
   "execution_count": 34,
   "metadata": {},
   "outputs": [
    {
     "data": {
      "text/plain": [
       "0.9411434204626116"
      ]
     },
     "execution_count": 34,
     "metadata": {},
     "output_type": "execute_result"
    }
   ],
   "source": [
    "centrality_correlation(dataset_graph, \n",
    "                       dict_struc2vec_emb, \n",
    "                       centrality='clustering_coeff', \n",
    "                       similarity='euclidean')"
   ]
  },
  {
   "cell_type": "code",
   "execution_count": 35,
   "metadata": {},
   "outputs": [
    {
     "data": {
      "text/plain": [
       "0.39624927055697595"
      ]
     },
     "execution_count": 35,
     "metadata": {},
     "output_type": "execute_result"
    }
   ],
   "source": [
    "centrality_correlation(dataset_graph, \n",
    "                       dict_node2vec_emb, \n",
    "                       centrality='pagerank', \n",
    "                       similarity='cosine')"
   ]
  },
  {
   "cell_type": "code",
   "execution_count": 36,
   "metadata": {},
   "outputs": [
    {
     "data": {
      "text/plain": [
       "0.877219211430064"
      ]
     },
     "execution_count": 36,
     "metadata": {},
     "output_type": "execute_result"
    }
   ],
   "source": [
    "centrality_correlation(dataset_graph, \n",
    "                       dict_xnetmf_emb, \n",
    "                       centrality='degree', \n",
    "                       similarity='euclidean')"
   ]
  }
 ],
 "metadata": {
  "kernelspec": {
   "display_name": "SEMB_env",
   "language": "python",
   "name": "semb_env"
  },
  "language_info": {
   "codemirror_mode": {
    "name": "ipython",
    "version": 3
   },
   "file_extension": ".py",
   "mimetype": "text/x-python",
   "name": "python",
   "nbconvert_exporter": "python",
   "pygments_lexer": "ipython3",
   "version": "3.6.2"
  }
 },
 "nbformat": 4,
 "nbformat_minor": 4
}
