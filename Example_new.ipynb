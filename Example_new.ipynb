{
 "cells": [
  {
   "cell_type": "markdown",
   "metadata": {},
   "source": [
    "## Load Embedding Methods and Datasets "
   ]
  },
  {
   "cell_type": "code",
   "execution_count": 13,
   "metadata": {},
   "outputs": [
    {
     "name": "stdout",
     "output_type": "stream",
     "text": [
      "graphwave\n",
      "degree2\n",
      "drne\n",
      "node2vec\n",
      "degree\n",
      "role2vec\n",
      "line\n",
      "degree1\n",
      "struc2vec\n",
      "xnetmf\n",
      "multilens\n",
      "segk\n",
      "riwalk\n"
     ]
    }
   ],
   "source": [
    "from semb.methods import load as load_method\n",
    "from semb.methods import get_method_ids\n",
    "for mid in get_method_ids():\n",
    "    print(mid)\n",
    "    load_method(mid)"
   ]
  },
  {
   "cell_type": "markdown",
   "metadata": {},
   "source": [
    "These are the method_id for the existing datasets."
   ]
  },
  {
   "cell_type": "code",
   "execution_count": 2,
   "metadata": {},
   "outputs": [
    {
     "name": "stdout",
     "output_type": "stream",
     "text": [
      "BlogCatalog\n",
      "ICEWS\n",
      "Facebook\n",
      "DD6\n",
      "PPI\n",
      "airports\n"
     ]
    }
   ],
   "source": [
    "from semb.datasets import load as load_dataset\n",
    "from semb.datasets import get_dataset_ids\n",
    "for did in get_dataset_ids():\n",
    "    print(did)\n",
    "    load_dataset(did)"
   ]
  },
  {
   "cell_type": "markdown",
   "metadata": {},
   "source": [
    "These are the dataset_id for the existing datasets."
   ]
  },
  {
   "cell_type": "markdown",
   "metadata": {},
   "source": [
    "## Load Dataset"
   ]
  },
  {
   "cell_type": "code",
   "execution_count": 3,
   "metadata": {},
   "outputs": [],
   "source": [
    "# Get airports datasets\n",
    "DataProvider = load_dataset(\"airports\")\n",
    "Datasets = DataProvider().get_datasets()\n",
    "dataset_graph = DataProvider().load_dataset(Datasets[0])"
   ]
  },
  {
   "cell_type": "markdown",
   "metadata": {},
   "source": [
    "Note that there are three datasets in the airports dataset.\n",
    "\n",
    "Datasets\\[0\\] represents the BR-air traffic Dataset\n",
    "\n",
    "Datasets\\[1\\] represents the EU-air traffic Dataset\n",
    "\n",
    "Datasets\\[2\\] represents the US-air traffic Dataset"
   ]
  },
  {
   "cell_type": "code",
   "execution_count": 4,
   "metadata": {},
   "outputs": [],
   "source": [
    "# Example code for getting the other datasets\n",
    "DataProvider = load_dataset(\"Facebook\")\n",
    "Facebook_dataset = DataProvider().get_datasets()\n",
    "Facebook_graph = DataProvider().load_dataset(Facebook_dataset[0])"
   ]
  },
  {
   "cell_type": "code",
   "execution_count": 27,
   "metadata": {},
   "outputs": [
    {
     "data": {
      "text/plain": [
       "<networkx.classes.graph.Graph at 0x7fb609fa16d8>"
      ]
     },
     "execution_count": 27,
     "metadata": {},
     "output_type": "execute_result"
    }
   ],
   "source": [
    "Facebook_graph"
   ]
  },
  {
   "cell_type": "code",
   "execution_count": null,
   "metadata": {},
   "outputs": [],
   "source": [
    "# Example for "
   ]
  },
  {
   "cell_type": "markdown",
   "metadata": {},
   "source": [
    "## Get Embedding Result Using struc2vec"
   ]
  },
  {
   "cell_type": "code",
   "execution_count": 5,
   "metadata": {},
   "outputs": [
    {
     "name": "stdout",
     "output_type": "stream",
     "text": [
      "rm /Users/mark/GoogleDrive/UM/S4/GEMS/Git/StrucEmbeddingLibrary/semb/methods/struc2vec/pickles/weights_distances-layer-*.pickle\n"
     ]
    }
   ],
   "source": [
    "# Define a hyper-class to load the embedding method\n",
    "EmbMethodClass = load_method(\"struc2vec\")\n",
    "\n",
    "# Call the embedding method with the graph for initialization\n",
    "struc2vec = EmbMethodClass(dataset_graph, \n",
    "                           num_walks=10, \n",
    "                           walk_length=80, \n",
    "                           window_size=10, \n",
    "                           dim=128, \n",
    "                           opt1=True, opt2=True, opt3=True, until_layer=2)\n",
    "struc2vec.train()\n",
    "\n",
    "# Get the embedding result with the get_embeddings() method,\n",
    "# The return type is a dictionary with key as node_id and value as the embedding\n",
    "dict_struc2vec_emb = struc2vec.get_embeddings()"
   ]
  },
  {
   "cell_type": "code",
   "execution_count": 6,
   "metadata": {
    "scrolled": true
   },
   "outputs": [
    {
     "data": {
      "text/plain": [
       "{'dim': 128,\n",
       " 'walk_length': 80,\n",
       " 'num_walks': 10,\n",
       " 'window_size': 10,\n",
       " 'until_layer': None,\n",
       " 'iter': 5,\n",
       " 'workers': 1,\n",
       " 'weighted': False,\n",
       " 'directed': False,\n",
       " 'opt1': False,\n",
       " 'opt2': False,\n",
       " 'opt3': False}"
      ]
     },
     "execution_count": 6,
     "metadata": {},
     "output_type": "execute_result"
    }
   ],
   "source": [
    "# This shows the tunable hyper-parameters for the certain embedding method\n",
    "# Here, for example, list the tunable hyper-parameters for struc2vec\n",
    "EmbMethodClass.__PARAMS__"
   ]
  },
  {
   "cell_type": "code",
   "execution_count": 7,
   "metadata": {},
   "outputs": [
    {
     "data": {
      "text/plain": [
       "[(7,\n",
       "  [0.08667778223752975,\n",
       "   0.3175113797187805,\n",
       "   0.11984732002019882,\n",
       "   0.08551565557718277,\n",
       "   0.22592230141162872,\n",
       "   -0.04005485400557518,\n",
       "   0.04822433739900589,\n",
       "   0.1058964803814888,\n",
       "   -0.08130078762769699,\n",
       "   0.5915679931640625,\n",
       "   -0.2566221058368683,\n",
       "   0.16664597392082214,\n",
       "   0.5967034697532654,\n",
       "   0.13798509538173676,\n",
       "   -0.043815065175294876,\n",
       "   -0.13155382871627808,\n",
       "   0.15757058560848236,\n",
       "   -0.004484705161303282,\n",
       "   -0.24765531718730927,\n",
       "   0.08927403390407562,\n",
       "   -0.05873528867959976,\n",
       "   -0.6947894096374512,\n",
       "   0.36224365234375,\n",
       "   -0.058237623423337936,\n",
       "   0.04533327370882034,\n",
       "   0.0029460384976118803,\n",
       "   0.08026771247386932,\n",
       "   -0.2877187132835388,\n",
       "   -0.4461440145969391,\n",
       "   0.7142013311386108,\n",
       "   0.12455303966999054,\n",
       "   0.2233635038137436,\n",
       "   -0.314730703830719,\n",
       "   -0.15512503683567047,\n",
       "   0.4236886203289032,\n",
       "   -0.4948304295539856,\n",
       "   0.09092126786708832,\n",
       "   -0.14706477522850037,\n",
       "   -0.025397535413503647,\n",
       "   -0.2967643439769745,\n",
       "   0.13861005008220673,\n",
       "   -0.48011183738708496,\n",
       "   -0.15385787189006805,\n",
       "   0.26877978444099426,\n",
       "   0.08286344259977341,\n",
       "   -0.3297410309314728,\n",
       "   -0.05256715416908264,\n",
       "   0.12364215403795242,\n",
       "   0.5152369141578674,\n",
       "   0.2169831246137619,\n",
       "   0.1468302607536316,\n",
       "   0.02090276964008808,\n",
       "   0.055214766412973404,\n",
       "   -0.08580649644136429,\n",
       "   -0.2645275294780731,\n",
       "   -0.010736462660133839,\n",
       "   0.26401519775390625,\n",
       "   -0.05248412489891052,\n",
       "   -0.3337056040763855,\n",
       "   0.5599110722541809,\n",
       "   -0.3751697540283203,\n",
       "   0.120083287358284,\n",
       "   0.047724589705467224,\n",
       "   0.20992986857891083,\n",
       "   0.35964033007621765,\n",
       "   0.13248024880886078,\n",
       "   0.43377000093460083,\n",
       "   -0.12194168567657471,\n",
       "   0.15718461573123932,\n",
       "   -0.12326973676681519,\n",
       "   -0.20626874268054962,\n",
       "   0.15922173857688904,\n",
       "   -0.019745323807001114,\n",
       "   0.1344534009695053,\n",
       "   0.303955078125,\n",
       "   0.35635891556739807,\n",
       "   0.4362521469593048,\n",
       "   -0.13687247037887573,\n",
       "   -0.16111820936203003,\n",
       "   -0.10731097310781479,\n",
       "   0.22414609789848328,\n",
       "   -0.6734937429428101,\n",
       "   -0.3334265351295471,\n",
       "   -0.26739972829818726,\n",
       "   -0.0747968778014183,\n",
       "   0.333709180355072,\n",
       "   -0.1795392483472824,\n",
       "   -0.20754589140415192,\n",
       "   0.22000649571418762,\n",
       "   0.07658975571393967,\n",
       "   0.22585783898830414,\n",
       "   0.0663011223077774,\n",
       "   0.05168361961841583,\n",
       "   0.0464499406516552,\n",
       "   -0.3217490017414093,\n",
       "   -0.16139443218708038,\n",
       "   -0.8748544454574585,\n",
       "   0.012185960076749325,\n",
       "   -0.31484901905059814,\n",
       "   0.3898738622665405,\n",
       "   0.37394723296165466,\n",
       "   -0.11914852261543274,\n",
       "   -0.19403649866580963,\n",
       "   -0.6074904203414917,\n",
       "   0.311477392911911,\n",
       "   0.01120786927640438,\n",
       "   -0.3425818085670471,\n",
       "   -0.3634803295135498,\n",
       "   0.11255892366170883,\n",
       "   -0.07892044633626938,\n",
       "   -0.4222935140132904,\n",
       "   0.07801978290081024,\n",
       "   0.5626344084739685,\n",
       "   0.6252529621124268,\n",
       "   0.08124200999736786,\n",
       "   -0.03863490745425224,\n",
       "   0.23663237690925598,\n",
       "   0.17486728727817535,\n",
       "   0.04525268077850342,\n",
       "   0.08069165050983429,\n",
       "   -0.15493880212306976,\n",
       "   -0.6579786539077759,\n",
       "   0.12138398736715317,\n",
       "   -0.3961745798587799,\n",
       "   -0.18403437733650208,\n",
       "   0.2971911132335663,\n",
       "   -0.08344675600528717,\n",
       "   -0.2679499089717865])]"
      ]
     },
     "execution_count": 7,
     "metadata": {},
     "output_type": "execute_result"
    }
   ],
   "source": [
    "# This shows the inside structure of the returned embedding file\n",
    "# The key is the node_id, the value is the embedding in list()\n",
    "list(dict_struc2vec_emb.items())[:1]"
   ]
  },
  {
   "cell_type": "markdown",
   "metadata": {},
   "source": [
    "## Use xNetMF to get the embedding"
   ]
  },
  {
   "cell_type": "code",
   "execution_count": 17,
   "metadata": {},
   "outputs": [],
   "source": [
    "EmbMethodClassXnetmf = load_method(\"xnetmf\")"
   ]
  },
  {
   "cell_type": "code",
   "execution_count": 15,
   "metadata": {},
   "outputs": [
    {
     "data": {
      "text/plain": [
       "{'dim': 128, 'max_layer': 2, 'discount': 0.1, 'gamma': 1}"
      ]
     },
     "execution_count": 15,
     "metadata": {},
     "output_type": "execute_result"
    }
   ],
   "source": [
    "EmbMethodClassXnetmf.__PARAMS__"
   ]
  },
  {
   "cell_type": "code",
   "execution_count": 18,
   "metadata": {},
   "outputs": [],
   "source": [
    "xnetmf = EmbMethodClassXnetmf(dataset_graph,\n",
    "                              dim = 128,\n",
    "                              max_layer = 2,\n",
    "                              discount = 0.1,\n",
    "                              gamma = 1\n",
    "                       )"
   ]
  },
  {
   "cell_type": "code",
   "execution_count": 21,
   "metadata": {},
   "outputs": [
    {
     "name": "stdout",
     "output_type": "stream",
     "text": [
      "max degree:  80\n",
      "got k hop neighbors in time:  0.04142189025878906\n",
      "got degree sequences in time:  0.012885332107543945\n",
      "computed representation in time:  0.008544921875\n"
     ]
    }
   ],
   "source": [
    "xnetmf.train()\n",
    "dict_xnetmf_emb = xnetmf.get_embeddings()"
   ]
  },
  {
   "cell_type": "markdown",
   "metadata": {},
   "source": [
    "## Load Evaluation Library and Perform Evaluation"
   ]
  },
  {
   "cell_type": "code",
   "execution_count": 8,
   "metadata": {},
   "outputs": [],
   "source": [
    "from semb.evaluations.classification import *\n",
    "from semb.evaluations.clustering import *\n",
    "from semb.evaluations.utils import *"
   ]
  },
  {
   "cell_type": "markdown",
   "metadata": {},
   "source": [
    "### Perform Classification"
   ]
  },
  {
   "cell_type": "code",
   "execution_count": 9,
   "metadata": {},
   "outputs": [
    {
     "name": "stdout",
     "output_type": "stream",
     "text": [
      "Read in 131 node labels.\n",
      ">>> Label 0 appears 32 times\n",
      ">>> Label 1 appears 32 times\n",
      ">>> Label 3 appears 35 times\n",
      ">>> Label 2 appears 32 times\n"
     ]
    }
   ],
   "source": [
    "# Read the label file with the get_label(fn) function\n",
    "dict_labels = get_label(\"./sample-data/labels/airport_Brazil_label.txt\")"
   ]
  },
  {
   "cell_type": "code",
   "execution_count": 10,
   "metadata": {},
   "outputs": [
    {
     "data": {
      "text/plain": [
       "{'overall': {'accuracy': {'mean': 0.7937, 'std': 0.0629},\n",
       "  'f1_macro': {'mean': 0.7921, 'std': 0.0579},\n",
       "  'f1_micro': {'mean': 0.7937, 'std': 0.0629},\n",
       "  'auc_micro': {'mean': 0.9171, 'std': 0.033},\n",
       "  'auc_macro': {'mean': 0.923, 'std': 0.0344}},\n",
       " 'detailed': {0: {'accuracy': 0.8148,\n",
       "   'f1_macro': 0.805,\n",
       "   'f1_micro': 0.8148,\n",
       "   'auc_micro': 0.9195,\n",
       "   'auc_macro': 0.9333},\n",
       "  1: {'accuracy': 0.6923,\n",
       "   'f1_macro': 0.7035,\n",
       "   'f1_micro': 0.6923,\n",
       "   'auc_micro': 0.8565,\n",
       "   'auc_macro': 0.8561},\n",
       "  2: {'accuracy': 0.7692,\n",
       "   'f1_macro': 0.7601,\n",
       "   'f1_micro': 0.7692,\n",
       "   'auc_micro': 0.9349,\n",
       "   'auc_macro': 0.9355},\n",
       "  3: {'accuracy': 0.8846,\n",
       "   'f1_macro': 0.8769,\n",
       "   'f1_micro': 0.8846,\n",
       "   'auc_micro': 0.9551,\n",
       "   'auc_macro': 0.9555},\n",
       "  4: {'accuracy': 0.8077,\n",
       "   'f1_macro': 0.8148,\n",
       "   'f1_micro': 0.8077,\n",
       "   'auc_micro': 0.9196,\n",
       "   'auc_macro': 0.9348}}}"
      ]
     },
     "execution_count": 10,
     "metadata": {},
     "output_type": "execute_result"
    }
   ],
   "source": [
    "perform_classification(dict_struc2vec_emb, dict_labels)"
   ]
  },
  {
   "cell_type": "code",
   "execution_count": 22,
   "metadata": {},
   "outputs": [
    {
     "data": {
      "text/plain": [
       "{'overall': {'accuracy': {'mean': 0.7026, 'std': 0.0771},\n",
       "  'f1_macro': {'mean': 0.6841, 'std': 0.0785},\n",
       "  'f1_micro': {'mean': 0.7026, 'std': 0.0771},\n",
       "  'auc_micro': {'mean': 0.9009, 'std': 0.0463},\n",
       "  'auc_macro': {'mean': 0.91, 'std': 0.0459}},\n",
       " 'detailed': {0: {'accuracy': 0.6667,\n",
       "   'f1_macro': 0.6293,\n",
       "   'f1_micro': 0.6667,\n",
       "   'auc_micro': 0.8957,\n",
       "   'auc_macro': 0.8976},\n",
       "  1: {'accuracy': 0.5769,\n",
       "   'f1_macro': 0.5673,\n",
       "   'f1_micro': 0.5769,\n",
       "   'auc_micro': 0.822,\n",
       "   'auc_macro': 0.8336},\n",
       "  2: {'accuracy': 0.8077,\n",
       "   'f1_macro': 0.7939,\n",
       "   'f1_micro': 0.8077,\n",
       "   'auc_micro': 0.961,\n",
       "   'auc_macro': 0.9662},\n",
       "  3: {'accuracy': 0.7308,\n",
       "   'f1_macro': 0.7049,\n",
       "   'f1_micro': 0.7308,\n",
       "   'auc_micro': 0.93,\n",
       "   'auc_macro': 0.947},\n",
       "  4: {'accuracy': 0.7308,\n",
       "   'f1_macro': 0.725,\n",
       "   'f1_micro': 0.7308,\n",
       "   'auc_micro': 0.896,\n",
       "   'auc_macro': 0.9056}}}"
      ]
     },
     "execution_count": 22,
     "metadata": {},
     "output_type": "execute_result"
    }
   ],
   "source": [
    "perform_classification(dict_xnetmf_emb, dict_labels)"
   ]
  },
  {
   "cell_type": "markdown",
   "metadata": {},
   "source": [
    "### Perform Clustering"
   ]
  },
  {
   "cell_type": "code",
   "execution_count": 11,
   "metadata": {},
   "outputs": [
    {
     "name": "stderr",
     "output_type": "stream",
     "text": [
      "/Library/Frameworks/Python.framework/Versions/3.6/lib/python3.6/site-packages/sklearn/metrics/cluster/supervised.py:859: FutureWarning: The behavior of NMI will change in version 0.22. To match the behavior of 'v_measure_score', NMI will use average_method='arithmetic' by default.\n",
      "  FutureWarning)\n"
     ]
    },
    {
     "data": {
      "text/plain": [
       "{'overall': {'purity': [0.6793893129770993], 'nmi': [0.4854751062047489]}}"
      ]
     },
     "execution_count": 11,
     "metadata": {},
     "output_type": "execute_result"
    }
   ],
   "source": [
    "perform_clustering(dict_struc2vec_emb, dict_labels)"
   ]
  },
  {
   "cell_type": "code",
   "execution_count": 23,
   "metadata": {},
   "outputs": [
    {
     "name": "stderr",
     "output_type": "stream",
     "text": [
      "/Library/Frameworks/Python.framework/Versions/3.6/lib/python3.6/site-packages/sklearn/metrics/cluster/supervised.py:859: FutureWarning: The behavior of NMI will change in version 0.22. To match the behavior of 'v_measure_score', NMI will use average_method='arithmetic' by default.\n",
      "  FutureWarning)\n"
     ]
    },
    {
     "data": {
      "text/plain": [
       "{'overall': {'purity': [0.4732824427480916], 'nmi': [0.29277522884736923]}}"
      ]
     },
     "execution_count": 23,
     "metadata": {},
     "output_type": "execute_result"
    }
   ],
   "source": [
    "perform_clustering(dict_xnetmf_emb, dict_labels)"
   ]
  },
  {
   "cell_type": "markdown",
   "metadata": {},
   "source": [
    "## Perform Centrality Correlation"
   ]
  },
  {
   "cell_type": "code",
   "execution_count": 12,
   "metadata": {},
   "outputs": [
    {
     "data": {
      "text/plain": [
       "0.9438543649290735"
      ]
     },
     "execution_count": 12,
     "metadata": {},
     "output_type": "execute_result"
    }
   ],
   "source": [
    "from semb.evaluations.centrality_correlation import *\n",
    "centrality_correlation(dataset_graph, \n",
    "                       dict_struc2vec_emb, \n",
    "                       centrality='clustering_coeff', \n",
    "                       similarity='euclidean')"
   ]
  },
  {
   "cell_type": "code",
   "execution_count": 25,
   "metadata": {},
   "outputs": [
    {
     "ename": "MethodKeywordUnAllowedException",
     "evalue": "Please choose centrality from ['degree', 'pagerank', 'betweeness', 'clustering_coeff']",
     "output_type": "error",
     "traceback": [
      "\u001b[0;31m---------------------------------------------------------------------------\u001b[0m",
      "\u001b[0;31mMethodKeywordUnAllowedException\u001b[0m           Traceback (most recent call last)",
      "\u001b[0;32m<ipython-input-25-5506fc9c5ed7>\u001b[0m in \u001b[0;36m<module>\u001b[0;34m\u001b[0m\n\u001b[1;32m      3\u001b[0m                        \u001b[0mdict_struc2vec_emb\u001b[0m\u001b[0;34m,\u001b[0m\u001b[0;34m\u001b[0m\u001b[0m\n\u001b[1;32m      4\u001b[0m                        \u001b[0mcentrality\u001b[0m\u001b[0;34m=\u001b[0m\u001b[0;34m'pr'\u001b[0m\u001b[0;34m,\u001b[0m\u001b[0;34m\u001b[0m\u001b[0m\n\u001b[0;32m----> 5\u001b[0;31m                        similarity='euclidean')\n\u001b[0m",
      "\u001b[0;32m~/GoogleDrive/UM/S4/GEMS/Git/StrucEmbeddingLibrary/semb/evaluations/centrality_correlation.py\u001b[0m in \u001b[0;36mcentrality_correlation\u001b[0;34m(graph, dict_embeddings, centrality, similarity, n_neighbors, **kwargs)\u001b[0m\n\u001b[1;32m     79\u001b[0m         \u001b[0mdict_centrality\u001b[0m \u001b[0;34m=\u001b[0m \u001b[0mdict\u001b[0m\u001b[0;34m(\u001b[0m\u001b[0mnx\u001b[0m\u001b[0;34m.\u001b[0m\u001b[0mclustering\u001b[0m\u001b[0;34m(\u001b[0m\u001b[0mgraph\u001b[0m\u001b[0;34m)\u001b[0m\u001b[0;34m)\u001b[0m\u001b[0;34m\u001b[0m\u001b[0m\n\u001b[1;32m     80\u001b[0m     \u001b[0;32melse\u001b[0m\u001b[0;34m:\u001b[0m\u001b[0;34m\u001b[0m\u001b[0m\n\u001b[0;32m---> 81\u001b[0;31m         \u001b[0;32mraise\u001b[0m \u001b[0mMethodKeywordUnAllowedException\u001b[0m\u001b[0;34m(\u001b[0m\u001b[0;34m\"Please choose centrality from ['degree', 'pagerank', 'betweeness', 'clustering_coeff']\"\u001b[0m\u001b[0;34m)\u001b[0m\u001b[0;34m\u001b[0m\u001b[0m\n\u001b[0m\u001b[1;32m     82\u001b[0m \u001b[0;34m\u001b[0m\u001b[0m\n\u001b[1;32m     83\u001b[0m     \u001b[0;32mif\u001b[0m \u001b[0msimilarity\u001b[0m \u001b[0;32mnot\u001b[0m \u001b[0;32min\u001b[0m \u001b[0;34m[\u001b[0m\u001b[0;34m'dot'\u001b[0m\u001b[0;34m,\u001b[0m \u001b[0;34m'cosine'\u001b[0m\u001b[0;34m,\u001b[0m \u001b[0;34m'euclidean'\u001b[0m\u001b[0;34m]\u001b[0m\u001b[0;34m:\u001b[0m\u001b[0;34m\u001b[0m\u001b[0m\n",
      "\u001b[0;31mMethodKeywordUnAllowedException\u001b[0m: Please choose centrality from ['degree', 'pagerank', 'betweeness', 'clustering_coeff']"
     ]
    }
   ],
   "source": [
    "from semb.evaluations.centrality_correlation import *\n",
    "centrality_correlation(dataset_graph, \n",
    "                       dict_struc2vec_emb, \n",
    "                       centrality='pr', \n",
    "                       similarity='euclidean')"
   ]
  },
  {
   "cell_type": "code",
   "execution_count": 26,
   "metadata": {},
   "outputs": [
    {
     "data": {
      "text/plain": [
       "0.9758972882556818"
      ]
     },
     "execution_count": 26,
     "metadata": {},
     "output_type": "execute_result"
    }
   ],
   "source": [
    "from semb.evaluations.centrality_correlation import *\n",
    "centrality_correlation(dataset_graph, \n",
    "                       dict_struc2vec_emb, \n",
    "                       centrality='pagerank', \n",
    "                       similarity='euclidean')"
   ]
  },
  {
   "cell_type": "code",
   "execution_count": null,
   "metadata": {},
   "outputs": [],
   "source": []
  }
 ],
 "metadata": {
  "kernelspec": {
   "display_name": "SEMB",
   "language": "python",
   "name": "semb"
  },
  "language_info": {
   "codemirror_mode": {
    "name": "ipython",
    "version": 3
   },
   "file_extension": ".py",
   "mimetype": "text/x-python",
   "name": "python",
   "nbconvert_exporter": "python",
   "pygments_lexer": "ipython3",
   "version": "3.6.2"
  }
 },
 "nbformat": 4,
 "nbformat_minor": 4
}
