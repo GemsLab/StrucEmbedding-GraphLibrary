{
 "metadata": {
  "language_info": {
   "codemirror_mode": {
    "name": "ipython",
    "version": 3
   },
   "file_extension": ".py",
   "mimetype": "text/x-python",
   "name": "python",
   "nbconvert_exporter": "python",
   "pygments_lexer": "ipython3",
   "version": "3.7.7-final"
  },
  "orig_nbformat": 2,
  "kernelspec": {
   "name": "python_defaultSpec_1597532768214",
   "display_name": "Python 3.7.7 64-bit"
  }
 },
 "nbformat": 4,
 "nbformat_minor": 2,
 "cells": [
  {
   "cell_type": "markdown",
   "metadata": {},
   "source": [
    "## This is a test notebook to see if the code refactoring for the libraries are working as expected"
   ]
  },
  {
   "cell_type": "code",
   "execution_count": 1,
   "metadata": {
    "tags": []
   },
   "outputs": [
    {
     "output_type": "stream",
     "name": "stdout",
     "text": "graphwave\ndrne\nnode2vec\nrole2vec\nline\nstruc2vec\nxnetmf\nmultilens\nsegk\nriwalk\n/Users/jackiezhang/miniconda2/envs/gemslab/lib/python3.7/site-packages/sklearn/externals/joblib/__init__.py:15: DeprecationWarning: sklearn.externals.joblib is deprecated in 0.21 and will be removed in 0.23. Please import this functionality directly from joblib, which can be installed with: pip install joblib. If this warning is raised when loading pickled models, you may need to re-serialize those models with scikit-learn 0.21+.\n  warnings.warn(msg, category=DeprecationWarning)\n"
    }
   ],
   "source": [
    "from semb.methods import load as load_method\n",
    "from semb.methods import get_method_ids\n",
    "for mid in get_method_ids():\n",
    "    print(mid)\n",
    "    load_method(mid)"
   ]
  },
  {
   "cell_type": "code",
   "execution_count": 2,
   "metadata": {
    "tags": []
   },
   "outputs": [
    {
     "output_type": "stream",
     "name": "stdout",
     "text": "airports\n"
    }
   ],
   "source": [
    "from semb.datasets import load as load_dataset\n",
    "from semb.datasets import get_dataset_ids\n",
    "for did in get_dataset_ids():\n",
    "    print(did)\n",
    "    load_dataset(did)"
   ]
  },
  {
   "cell_type": "markdown",
   "metadata": {},
   "source": [
    "# Node2Vec"
   ]
  },
  {
   "cell_type": "code",
   "execution_count": 1,
   "metadata": {
    "tags": []
   },
   "outputs": [
    {
     "output_type": "stream",
     "name": "stdout",
     "text": "<gensim.models.keyedvectors.Word2VecKeyedVectors object at 0x7f87407ed050>\n"
    }
   ],
   "source": [
    "from semb.methods import load as load_method\n",
    "from semb.datasets import load as load_dataset\n",
    "\n",
    "Node2VecMethod = load_method(\"node2vec\")\n",
    "AirportDataProvider = load_dataset(\"airports\")\n",
    "airport_datasets = AirportDataProvider().get_datasets()\n",
    "brazil_airport_graph = AirportDataProvider().load_dataset(airport_datasets[0])\n",
    "\n",
    "node2vec = Node2VecMethod(brazil_airport_graph, p=1, q=4, dim=128, iter=5)\n",
    "node2vec.train()\n",
    "\n",
    "print(node2vec.get_embeddings())"
   ]
  },
  {
   "cell_type": "markdown",
   "metadata": {},
   "source": [
    "# Struc2Vec"
   ]
  },
  {
   "cell_type": "code",
   "execution_count": 3,
   "metadata": {
    "tags": []
   },
   "outputs": [
    {
     "output_type": "stream",
     "name": "stdout",
     "text": "!!!!!\nrm /Users/jackiezhang/Projects/Research/StrucEmbeddingLibrary/semb/methods/struc2vec/pickles/weights_distances-layer-*.pickle\n<gensim.models.keyedvectors.Word2VecKeyedVectors object at 0x7ff73958afd0>\n"
    }
   ],
   "source": [
    "from semb.methods import load as load_method\n",
    "from semb.datasets import load as load_dataset\n",
    "\n",
    "Struc2VecMethod = load_method(\"struc2vec\")\n",
    "AirportDataProvider = load_dataset(\"airports\")\n",
    "airport_datasets = AirportDataProvider().get_datasets()\n",
    "brazil_airport_graph = AirportDataProvider().load_dataset(airport_datasets[0])\n",
    "\n",
    "struc2vec = Struc2VecMethod(brazil_airport_graph, num_walks=10, walk_length=80, window_size=10, dim=128, opt1=True, opt2=True, opt3=True, until_layer=2)\n",
    "struc2vec.train()\n",
    "\n",
    "print(struc2vec.get_embeddings())"
   ]
  },
  {
   "cell_type": "markdown",
   "metadata": {},
   "source": [
    "# XNetMF"
   ]
  },
  {
   "cell_type": "code",
   "execution_count": 1,
   "metadata": {
    "tags": []
   },
   "outputs": [
    {
     "output_type": "stream",
     "name": "stdout",
     "text": "max degree:  80\ngot k hop neighbors in time:  0.027379989624023438\ngot degree sequences in time:  0.011226892471313477\ncomputed representation in time:  0.009149789810180664\n[[-1.37704743e-04  1.27010683e-03 -2.03434516e-04 ... -1.49213045e-22\n  -3.41994083e-23  1.43444650e-22]\n [-9.65898443e-05  1.66742756e-04 -2.45790879e-04 ... -1.66882048e-22\n  -4.09051438e-23  1.70831618e-22]\n [-1.58249968e-05 -1.83503745e-05  1.23592685e-04 ... -1.73237629e-22\n  -4.80606517e-23  1.70797436e-22]\n ...\n [-6.44032227e-05 -1.28126308e-04 -7.84104267e-06 ... -3.57732969e-22\n  -1.28058809e-22  2.18954869e-22]\n [-5.36337990e-05 -1.31538894e-04  5.44271448e-06 ... -3.59625795e-22\n  -1.28893017e-22  2.24111482e-22]\n [ 4.40716560e-04  7.88162017e-06 -1.71904982e-04 ... -3.50170074e-22\n  -1.17795556e-22  2.16827953e-22]]\n"
    }
   ],
   "source": [
    "from semb.methods import load as load_method\n",
    "from semb.datasets import load as load_dataset\n",
    "\n",
    "Struc2VecMethod = load_method(\"xnetmf\")\n",
    "AirportDataProvider = load_dataset(\"airports\")\n",
    "airport_datasets = AirportDataProvider().get_datasets()\n",
    "brazil_airport_graph = AirportDataProvider().load_dataset(airport_datasets[0])\n",
    "\n",
    "struc2vec = Struc2VecMethod(brazil_airport_graph, dim=128, max_layer=2, discount=0.1, gamma=1)\n",
    "struc2vec.train()\n",
    "\n",
    "print(struc2vec.get_embeddings())"
   ]
  },
  {
   "cell_type": "code",
   "execution_count": null,
   "metadata": {},
   "outputs": [],
   "source": []
  }
 ]
}