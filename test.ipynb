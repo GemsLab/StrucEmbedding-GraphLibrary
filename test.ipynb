{
 "cells": [
  {
   "cell_type": "markdown",
   "metadata": {},
   "source": [
    "## This is a test notebook to see if the code refactoring for the libraries are working as expected"
   ]
  },
  {
   "cell_type": "code",
   "execution_count": 1,
   "metadata": {
    "tags": []
   },
   "outputs": [
    {
     "name": "stdout",
     "output_type": "stream",
     "text": [
      "graphwave\n",
      "degree2\n",
      "drne\n"
     ]
    },
    {
     "name": "stderr",
     "output_type": "stream",
     "text": [
      "/Library/Frameworks/Python.framework/Versions/3.6/lib/python3.6/site-packages/tensorflow/python/framework/dtypes.py:493: FutureWarning: Passing (type, 1) or '1type' as a synonym of type is deprecated; in a future version of numpy, it will be understood as (type, (1,)) / '(1,)type'.\n",
      "  _np_qint8 = np.dtype([(\"qint8\", np.int8, 1)])\n",
      "/Library/Frameworks/Python.framework/Versions/3.6/lib/python3.6/site-packages/tensorflow/python/framework/dtypes.py:494: FutureWarning: Passing (type, 1) or '1type' as a synonym of type is deprecated; in a future version of numpy, it will be understood as (type, (1,)) / '(1,)type'.\n",
      "  _np_quint8 = np.dtype([(\"quint8\", np.uint8, 1)])\n",
      "/Library/Frameworks/Python.framework/Versions/3.6/lib/python3.6/site-packages/tensorflow/python/framework/dtypes.py:495: FutureWarning: Passing (type, 1) or '1type' as a synonym of type is deprecated; in a future version of numpy, it will be understood as (type, (1,)) / '(1,)type'.\n",
      "  _np_qint16 = np.dtype([(\"qint16\", np.int16, 1)])\n",
      "/Library/Frameworks/Python.framework/Versions/3.6/lib/python3.6/site-packages/tensorflow/python/framework/dtypes.py:496: FutureWarning: Passing (type, 1) or '1type' as a synonym of type is deprecated; in a future version of numpy, it will be understood as (type, (1,)) / '(1,)type'.\n",
      "  _np_quint16 = np.dtype([(\"quint16\", np.uint16, 1)])\n",
      "/Library/Frameworks/Python.framework/Versions/3.6/lib/python3.6/site-packages/tensorflow/python/framework/dtypes.py:497: FutureWarning: Passing (type, 1) or '1type' as a synonym of type is deprecated; in a future version of numpy, it will be understood as (type, (1,)) / '(1,)type'.\n",
      "  _np_qint32 = np.dtype([(\"qint32\", np.int32, 1)])\n",
      "/Library/Frameworks/Python.framework/Versions/3.6/lib/python3.6/site-packages/tensorflow/python/framework/dtypes.py:502: FutureWarning: Passing (type, 1) or '1type' as a synonym of type is deprecated; in a future version of numpy, it will be understood as (type, (1,)) / '(1,)type'.\n",
      "  np_resource = np.dtype([(\"resource\", np.ubyte, 1)])\n"
     ]
    },
    {
     "name": "stdout",
     "output_type": "stream",
     "text": [
      "node2vec\n",
      "degree\n",
      "role2vec\n",
      "line\n",
      "degree1\n",
      "struc2vec\n",
      "xnetmf\n",
      "multilens\n",
      "segk\n",
      "riwalk\n"
     ]
    },
    {
     "name": "stderr",
     "output_type": "stream",
     "text": [
      "/Library/Frameworks/Python.framework/Versions/3.6/lib/python3.6/site-packages/sklearn/externals/joblib/__init__.py:15: DeprecationWarning: sklearn.externals.joblib is deprecated in 0.21 and will be removed in 0.23. Please import this functionality directly from joblib, which can be installed with: pip install joblib. If this warning is raised when loading pickled models, you may need to re-serialize those models with scikit-learn 0.21+.\n",
      "  warnings.warn(msg, category=DeprecationWarning)\n"
     ]
    }
   ],
   "source": [
    "from semb.methods import load as load_method\n",
    "from semb.methods import get_method_ids\n",
    "for mid in get_method_ids():\n",
    "    print(mid)\n",
    "    load_method(mid)"
   ]
  },
  {
   "cell_type": "code",
   "execution_count": 2,
   "metadata": {
    "tags": []
   },
   "outputs": [
    {
     "name": "stdout",
     "output_type": "stream",
     "text": [
      "airports\n"
     ]
    }
   ],
   "source": [
    "from semb.datasets import load as load_dataset\n",
    "from semb.datasets import get_dataset_ids\n",
    "for did in get_dataset_ids():\n",
    "    print(did)\n",
    "    load_dataset(did)"
   ]
  },
  {
   "cell_type": "markdown",
   "metadata": {},
   "source": [
    "# Node2Vec"
   ]
  },
  {
   "cell_type": "code",
   "execution_count": 26,
   "metadata": {
    "tags": []
   },
   "outputs": [],
   "source": [
    "from semb.methods import load as load_method\n",
    "from semb.datasets import load as load_dataset\n",
    "\n",
    "Node2VecMethod = load_method(\"segk\")\n",
    "AirportDataProvider = load_dataset(\"airports\")\n",
    "airport_datasets = AirportDataProvider().get_datasets()\n",
    "brazil_airport_graph = AirportDataProvider().load_dataset(airport_datasets[0])\n",
    "\n",
    "node2vec = Node2VecMethod(brazil_airport_graph)\n",
    "node2vec.train()\n",
    "emb = node2vec.get_embeddings()"
   ]
  },
  {
   "cell_type": "code",
   "execution_count": 27,
   "metadata": {},
   "outputs": [],
   "source": [
    "from semb.evaluations.centrality_correlation import *"
   ]
  },
  {
   "cell_type": "code",
   "execution_count": 28,
   "metadata": {},
   "outputs": [
    {
     "data": {
      "text/plain": [
       "0.4004262600505841"
      ]
     },
     "execution_count": 28,
     "metadata": {},
     "output_type": "execute_result"
    }
   ],
   "source": [
    "centrality_correlation(brazil_airport_graph, emb, centrality='betweeness', similarity='cosine')"
   ]
  },
  {
   "cell_type": "code",
   "execution_count": 29,
   "metadata": {},
   "outputs": [
    {
     "data": {
      "text/plain": [
       "131"
      ]
     },
     "execution_count": 29,
     "metadata": {},
     "output_type": "execute_result"
    }
   ],
   "source": [
    "len(emb)"
   ]
  },
  {
   "cell_type": "code",
   "execution_count": 30,
   "metadata": {},
   "outputs": [
    {
     "data": {
      "text/plain": [
       "128"
      ]
     },
     "execution_count": 30,
     "metadata": {},
     "output_type": "execute_result"
    }
   ],
   "source": [
    "len(emb[7])"
   ]
  },
  {
   "cell_type": "code",
   "execution_count": 31,
   "metadata": {},
   "outputs": [],
   "source": [
    "from semb.evaluations.classification import *"
   ]
  },
  {
   "cell_type": "code",
   "execution_count": 38,
   "metadata": {},
   "outputs": [],
   "source": [
    "from semb.evaluations.utils import *"
   ]
  },
  {
   "cell_type": "code",
   "execution_count": 39,
   "metadata": {},
   "outputs": [
    {
     "name": "stdout",
     "output_type": "stream",
     "text": [
      "Read in 131 node labels.\n",
      ">>> Label 0 appears 32 times\n",
      ">>> Label 1 appears 32 times\n",
      ">>> Label 3 appears 35 times\n",
      ">>> Label 2 appears 32 times\n"
     ]
    }
   ],
   "source": [
    "dict_labels = get_label(\"./sample-data/labels/airport_Brazil_label.txt\")"
   ]
  },
  {
   "cell_type": "code",
   "execution_count": 40,
   "metadata": {},
   "outputs": [
    {
     "data": {
      "text/plain": [
       "{'overall': {'accuracy': {'mean': 0.7405, 'std': 0.0614},\n",
       "  'f1_macro': {'mean': 0.729, 'std': 0.0627},\n",
       "  'f1_micro': {'mean': 0.7405, 'std': 0.0614},\n",
       "  'auc_micro': {'mean': 0.9063, 'std': 0.0222},\n",
       "  'auc_macro': {'mean': 0.9138, 'std': 0.0213}},\n",
       " 'detailed': {0: {'accuracy': 0.7407,\n",
       "   'f1_macro': 0.7136,\n",
       "   'f1_micro': 0.7407,\n",
       "   'auc_micro': 0.9246,\n",
       "   'auc_macro': 0.9256},\n",
       "  1: {'accuracy': 0.6538,\n",
       "   'f1_macro': 0.6542,\n",
       "   'f1_micro': 0.6538,\n",
       "   'auc_micro': 0.8693,\n",
       "   'auc_macro': 0.8773},\n",
       "  2: {'accuracy': 0.7308,\n",
       "   'f1_macro': 0.6983,\n",
       "   'f1_micro': 0.7308,\n",
       "   'auc_micro': 0.9241,\n",
       "   'auc_macro': 0.9094},\n",
       "  3: {'accuracy': 0.8462,\n",
       "   'f1_macro': 0.8421,\n",
       "   'f1_micro': 0.8462,\n",
       "   'auc_micro': 0.9216,\n",
       "   'auc_macro': 0.9415},\n",
       "  4: {'accuracy': 0.7308,\n",
       "   'f1_macro': 0.7368,\n",
       "   'f1_micro': 0.7308,\n",
       "   'auc_micro': 0.892,\n",
       "   'auc_macro': 0.915}}}"
      ]
     },
     "execution_count": 40,
     "metadata": {},
     "output_type": "execute_result"
    }
   ],
   "source": [
    "perform_classification(emb, dict_labels)"
   ]
  },
  {
   "cell_type": "code",
   "execution_count": 41,
   "metadata": {},
   "outputs": [],
   "source": [
    "from semb.evaluations.clustering import *"
   ]
  },
  {
   "cell_type": "code",
   "execution_count": 42,
   "metadata": {},
   "outputs": [
    {
     "name": "stderr",
     "output_type": "stream",
     "text": [
      "/Library/Frameworks/Python.framework/Versions/3.6/lib/python3.6/site-packages/sklearn/metrics/cluster/supervised.py:859: FutureWarning: The behavior of NMI will change in version 0.22. To match the behavior of 'v_measure_score', NMI will use average_method='arithmetic' by default.\n",
      "  FutureWarning)\n"
     ]
    },
    {
     "data": {
      "text/plain": [
       "{'overall': {'purity': [0.4580152671755725], 'nmi': [0.3048220619081374]}}"
      ]
     },
     "execution_count": 42,
     "metadata": {},
     "output_type": "execute_result"
    }
   ],
   "source": [
    "perform_clustering(emb, dict_labels)"
   ]
  },
  {
   "cell_type": "code",
   "execution_count": null,
   "metadata": {},
   "outputs": [],
   "source": []
  }
 ],
 "metadata": {
  "kernelspec": {
   "display_name": "Python 3",
   "language": "python",
   "name": "python3"
  },
  "language_info": {
   "codemirror_mode": {
    "name": "ipython",
    "version": 3
   },
   "file_extension": ".py",
   "mimetype": "text/x-python",
   "name": "python",
   "nbconvert_exporter": "python",
   "pygments_lexer": "ipython3",
   "version": "3.6.2"
  }
 },
 "nbformat": 4,
 "nbformat_minor": 2
}
