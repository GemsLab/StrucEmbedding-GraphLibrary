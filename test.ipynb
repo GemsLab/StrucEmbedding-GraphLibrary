{
 "cells": [
  {
   "cell_type": "code",
   "execution_count": 1,
   "metadata": {},
   "outputs": [
    {
     "name": "stdout",
     "output_type": "stream",
     "text": [
      "BlogCatalog\n",
      "ICEWS\n",
      "Facebook\n",
      "DD6\n",
      "PPI\n",
      "airports\n"
     ]
    }
   ],
   "source": [
    "from semb.datasets import load as load_dataset\n",
    "from semb.datasets import get_dataset_ids\n",
    "for did in get_dataset_ids():\n",
    "    print(did)\n",
    "    load_dataset(did)"
   ]
  },
  {
   "cell_type": "code",
   "execution_count": 23,
   "metadata": {},
   "outputs": [],
   "source": [
    "import pandas as pd\n",
    "import matplotlib.pyplot as plt"
   ]
  },
  {
   "cell_type": "code",
   "execution_count": 3,
   "metadata": {},
   "outputs": [],
   "source": [
    "# Get airports datasets\n",
    "DataProvider = load_dataset(\"airports\")\n",
    "Datasets = DataProvider().get_datasets()\n",
    "dataset_graph = DataProvider().load_dataset(Datasets[0])"
   ]
  },
  {
   "cell_type": "code",
   "execution_count": 4,
   "metadata": {},
   "outputs": [
    {
     "data": {
      "text/plain": [
       "[DatasetInfo(name='brazil', description='Brazil airport sample data', src_url='/Users/mark/GoogleDrive/UM/S4/GEMS/Git/StrucEmbeddingLibrary/semb/datasets/airports/../../../sample-data/Airports/airport_Brazil/brazil-airports.edgelist'),\n",
       " DatasetInfo(name='european', description='European airport sample data', src_url='/Users/mark/GoogleDrive/UM/S4/GEMS/Git/StrucEmbeddingLibrary/semb/datasets/airports/../../../sample-data/Airports/airport_European/europe-airports.edgelist'),\n",
       " DatasetInfo(name='US', description='European airport sample data', src_url='/Users/mark/GoogleDrive/UM/S4/GEMS/Git/StrucEmbeddingLibrary/semb/datasets/airports/../../../sample-data/Airports/airport_US/usa-airports.edgelist')]"
      ]
     },
     "execution_count": 4,
     "metadata": {},
     "output_type": "execute_result"
    }
   ],
   "source": [
    "Datasets"
   ]
  },
  {
   "cell_type": "code",
   "execution_count": 5,
   "metadata": {},
   "outputs": [
    {
     "name": "stdout",
     "output_type": "stream",
     "text": [
      "graphwave\n",
      "degree2\n",
      "drne\n"
     ]
    },
    {
     "name": "stderr",
     "output_type": "stream",
     "text": [
      "/Library/Frameworks/Python.framework/Versions/3.6/lib/python3.6/site-packages/tensorflow/python/framework/dtypes.py:493: FutureWarning: Passing (type, 1) or '1type' as a synonym of type is deprecated; in a future version of numpy, it will be understood as (type, (1,)) / '(1,)type'.\n",
      "  _np_qint8 = np.dtype([(\"qint8\", np.int8, 1)])\n",
      "/Library/Frameworks/Python.framework/Versions/3.6/lib/python3.6/site-packages/tensorflow/python/framework/dtypes.py:494: FutureWarning: Passing (type, 1) or '1type' as a synonym of type is deprecated; in a future version of numpy, it will be understood as (type, (1,)) / '(1,)type'.\n",
      "  _np_quint8 = np.dtype([(\"quint8\", np.uint8, 1)])\n",
      "/Library/Frameworks/Python.framework/Versions/3.6/lib/python3.6/site-packages/tensorflow/python/framework/dtypes.py:495: FutureWarning: Passing (type, 1) or '1type' as a synonym of type is deprecated; in a future version of numpy, it will be understood as (type, (1,)) / '(1,)type'.\n",
      "  _np_qint16 = np.dtype([(\"qint16\", np.int16, 1)])\n",
      "/Library/Frameworks/Python.framework/Versions/3.6/lib/python3.6/site-packages/tensorflow/python/framework/dtypes.py:496: FutureWarning: Passing (type, 1) or '1type' as a synonym of type is deprecated; in a future version of numpy, it will be understood as (type, (1,)) / '(1,)type'.\n",
      "  _np_quint16 = np.dtype([(\"quint16\", np.uint16, 1)])\n",
      "/Library/Frameworks/Python.framework/Versions/3.6/lib/python3.6/site-packages/tensorflow/python/framework/dtypes.py:497: FutureWarning: Passing (type, 1) or '1type' as a synonym of type is deprecated; in a future version of numpy, it will be understood as (type, (1,)) / '(1,)type'.\n",
      "  _np_qint32 = np.dtype([(\"qint32\", np.int32, 1)])\n",
      "/Library/Frameworks/Python.framework/Versions/3.6/lib/python3.6/site-packages/tensorflow/python/framework/dtypes.py:502: FutureWarning: Passing (type, 1) or '1type' as a synonym of type is deprecated; in a future version of numpy, it will be understood as (type, (1,)) / '(1,)type'.\n",
      "  np_resource = np.dtype([(\"resource\", np.ubyte, 1)])\n"
     ]
    },
    {
     "name": "stdout",
     "output_type": "stream",
     "text": [
      "node2vec\n",
      "degree\n",
      "role2vec\n",
      "line\n",
      "degree1\n",
      "struc2vec\n",
      "xnetmf\n",
      "multilens\n",
      "segk\n",
      "riwalk\n"
     ]
    },
    {
     "name": "stderr",
     "output_type": "stream",
     "text": [
      "/Library/Frameworks/Python.framework/Versions/3.6/lib/python3.6/site-packages/sklearn/externals/joblib/__init__.py:15: DeprecationWarning: sklearn.externals.joblib is deprecated in 0.21 and will be removed in 0.23. Please import this functionality directly from joblib, which can be installed with: pip install joblib. If this warning is raised when loading pickled models, you may need to re-serialize those models with scikit-learn 0.21+.\n",
      "  warnings.warn(msg, category=DeprecationWarning)\n"
     ]
    }
   ],
   "source": [
    "from semb.methods import load as load_method\n",
    "from semb.methods import get_method_ids\n",
    "for mid in get_method_ids():\n",
    "    print(mid)\n",
    "    load_method(mid)"
   ]
  },
  {
   "cell_type": "code",
   "execution_count": 6,
   "metadata": {},
   "outputs": [
    {
     "name": "stdout",
     "output_type": "stream",
     "text": [
      "rm /Users/mark/GoogleDrive/UM/S4/GEMS/Git/StrucEmbeddingLibrary/semb/methods/struc2vec/pickles/weights_distances-layer-*.pickle\n"
     ]
    }
   ],
   "source": [
    "# Define a hyper-class to load the embedding method\n",
    "EmbMethodClass = load_method(\"struc2vec\")\n",
    "\n",
    "# Call the embedding method with the graph for initialization\n",
    "struc2vec = EmbMethodClass(dataset_graph, \n",
    "                           num_walks=10, \n",
    "                           walk_length=80, \n",
    "                           window_size=10, \n",
    "                           dim=128, \n",
    "                           opt1=True, opt2=True, opt3=True, until_layer=2)\n",
    "struc2vec.train()\n",
    "\n",
    "# Get the embedding result with the get_embeddings() method,\n",
    "# The return type is a dictionary with key as node_id and value as the embedding\n",
    "dict_struc2vec_emb = struc2vec.get_embeddings()"
   ]
  },
  {
   "cell_type": "code",
   "execution_count": 7,
   "metadata": {},
   "outputs": [],
   "source": [
    "EmbMethodClassXnetmf = load_method(\"xnetmf\")"
   ]
  },
  {
   "cell_type": "code",
   "execution_count": 8,
   "metadata": {},
   "outputs": [
    {
     "data": {
      "text/plain": [
       "{'dim': 128, 'max_layer': 2, 'discount': 0.1, 'gamma': 1}"
      ]
     },
     "execution_count": 8,
     "metadata": {},
     "output_type": "execute_result"
    }
   ],
   "source": [
    "EmbMethodClassXnetmf.__PARAMS__"
   ]
  },
  {
   "cell_type": "code",
   "execution_count": 9,
   "metadata": {},
   "outputs": [],
   "source": [
    "xnetmf = EmbMethodClassXnetmf(dataset_graph,\n",
    "                              dim = 128,\n",
    "                              max_layer = 2,\n",
    "                              discount = 0.1,\n",
    "                              gamma = 1\n",
    "                       )"
   ]
  },
  {
   "cell_type": "code",
   "execution_count": 10,
   "metadata": {},
   "outputs": [
    {
     "name": "stdout",
     "output_type": "stream",
     "text": [
      "max degree:  80\n",
      "got k hop neighbors in time:  0.038465023040771484\n",
      "got degree sequences in time:  0.012195825576782227\n",
      "computed representation in time:  0.008967161178588867\n"
     ]
    }
   ],
   "source": [
    "xnetmf.train()\n",
    "dict_xnetmf_emb = xnetmf.get_embeddings()"
   ]
  },
  {
   "cell_type": "code",
   "execution_count": 11,
   "metadata": {},
   "outputs": [],
   "source": [
    "from semb.evaluations.classification import *\n",
    "from semb.evaluations.clustering import *\n",
    "from semb.evaluations.utils import *"
   ]
  },
  {
   "cell_type": "code",
   "execution_count": 12,
   "metadata": {},
   "outputs": [
    {
     "name": "stdout",
     "output_type": "stream",
     "text": [
      "Read in 131 node labels.\n",
      ">>> Label 0 appears 32 times\n",
      ">>> Label 1 appears 32 times\n",
      ">>> Label 3 appears 35 times\n",
      ">>> Label 2 appears 32 times\n"
     ]
    }
   ],
   "source": [
    "# Read the label file with the get_label(fn) function\n",
    "dict_labels = get_label(\"./sample-data/labels/airport_Brazil_label.txt\")"
   ]
  },
  {
   "cell_type": "code",
   "execution_count": 13,
   "metadata": {},
   "outputs": [],
   "source": [
    "result_struc2vec = perform_classification(dict_struc2vec_emb, dict_labels)"
   ]
  },
  {
   "cell_type": "code",
   "execution_count": 14,
   "metadata": {},
   "outputs": [],
   "source": [
    "result_xnetmf = perform_classification(dict_xnetmf_emb, dict_labels)"
   ]
  },
  {
   "cell_type": "code",
   "execution_count": 15,
   "metadata": {},
   "outputs": [
    {
     "data": {
      "text/plain": [
       "{'overall': {'accuracy': {'mean': 0.7937, 'std': 0.0795},\n",
       "  'f1_macro': {'mean': 0.7873, 'std': 0.0806},\n",
       "  'f1_micro': {'mean': 0.7937, 'std': 0.0795},\n",
       "  'auc_micro': {'mean': 0.9209, 'std': 0.0347},\n",
       "  'auc_macro': {'mean': 0.9244, 'std': 0.0333}},\n",
       " 'detailed': {0: {'accuracy': 0.8148,\n",
       "   'f1_macro': 0.805,\n",
       "   'f1_micro': 0.8148,\n",
       "   'auc_micro': 0.925,\n",
       "   'auc_macro': 0.9272},\n",
       "  1: {'accuracy': 0.6538,\n",
       "   'f1_macro': 0.6542,\n",
       "   'f1_micro': 0.6538,\n",
       "   'auc_micro': 0.8575,\n",
       "   'auc_macro': 0.8674},\n",
       "  2: {'accuracy': 0.7692,\n",
       "   'f1_macro': 0.7448,\n",
       "   'f1_micro': 0.7692,\n",
       "   'auc_micro': 0.9354,\n",
       "   'auc_macro': 0.9234},\n",
       "  3: {'accuracy': 0.8846,\n",
       "   'f1_macro': 0.8769,\n",
       "   'f1_micro': 0.8846,\n",
       "   'auc_micro': 0.963,\n",
       "   'auc_macro': 0.9717},\n",
       "  4: {'accuracy': 0.8462,\n",
       "   'f1_macro': 0.8554,\n",
       "   'f1_micro': 0.8462,\n",
       "   'auc_micro': 0.9236,\n",
       "   'auc_macro': 0.9323}}}"
      ]
     },
     "execution_count": 15,
     "metadata": {},
     "output_type": "execute_result"
    }
   ],
   "source": [
    "result_struc2vec"
   ]
  },
  {
   "cell_type": "code",
   "execution_count": 16,
   "metadata": {},
   "outputs": [
    {
     "data": {
      "text/plain": [
       "{'overall': {'accuracy': {'mean': 0.7103, 'std': 0.0813},\n",
       "  'f1_macro': {'mean': 0.692, 'std': 0.0821},\n",
       "  'f1_micro': {'mean': 0.7103, 'std': 0.0813},\n",
       "  'auc_micro': {'mean': 0.9013, 'std': 0.0462},\n",
       "  'auc_macro': {'mean': 0.9097, 'std': 0.0458}},\n",
       " 'detailed': {0: {'accuracy': 0.6667,\n",
       "   'f1_macro': 0.6293,\n",
       "   'f1_micro': 0.6667,\n",
       "   'auc_micro': 0.898,\n",
       "   'auc_macro': 0.896},\n",
       "  1: {'accuracy': 0.5769,\n",
       "   'f1_macro': 0.5673,\n",
       "   'f1_micro': 0.5769,\n",
       "   'auc_micro': 0.8215,\n",
       "   'auc_macro': 0.8336},\n",
       "  2: {'accuracy': 0.8077,\n",
       "   'f1_macro': 0.7939,\n",
       "   'f1_micro': 0.8077,\n",
       "   'auc_micro': 0.9596,\n",
       "   'auc_macro': 0.9641},\n",
       "  3: {'accuracy': 0.7692,\n",
       "   'f1_macro': 0.7446,\n",
       "   'f1_micro': 0.7692,\n",
       "   'auc_micro': 0.931,\n",
       "   'auc_macro': 0.9491},\n",
       "  4: {'accuracy': 0.7308,\n",
       "   'f1_macro': 0.725,\n",
       "   'f1_micro': 0.7308,\n",
       "   'auc_micro': 0.8964,\n",
       "   'auc_macro': 0.9056}}}"
      ]
     },
     "execution_count": 16,
     "metadata": {},
     "output_type": "execute_result"
    }
   ],
   "source": [
    "result_xnetmf"
   ]
  },
  {
   "cell_type": "code",
   "execution_count": 17,
   "metadata": {},
   "outputs": [
    {
     "name": "stderr",
     "output_type": "stream",
     "text": [
      "/Library/Frameworks/Python.framework/Versions/3.6/lib/python3.6/site-packages/sklearn/metrics/cluster/supervised.py:859: FutureWarning: The behavior of NMI will change in version 0.22. To match the behavior of 'v_measure_score', NMI will use average_method='arithmetic' by default.\n",
      "  FutureWarning)\n"
     ]
    }
   ],
   "source": [
    "clu_struc2vec = perform_clustering(dict_struc2vec_emb, dict_labels)"
   ]
  },
  {
   "cell_type": "code",
   "execution_count": 18,
   "metadata": {},
   "outputs": [
    {
     "name": "stderr",
     "output_type": "stream",
     "text": [
      "/Library/Frameworks/Python.framework/Versions/3.6/lib/python3.6/site-packages/sklearn/metrics/cluster/supervised.py:859: FutureWarning: The behavior of NMI will change in version 0.22. To match the behavior of 'v_measure_score', NMI will use average_method='arithmetic' by default.\n",
      "  FutureWarning)\n"
     ]
    }
   ],
   "source": [
    "clu_xnetmf = perform_clustering(dict_xnetmf_emb, dict_labels)"
   ]
  },
  {
   "cell_type": "code",
   "execution_count": 32,
   "metadata": {},
   "outputs": [
    {
     "data": {
      "text/html": [
       "<div>\n",
       "<style scoped>\n",
       "    .dataframe tbody tr th:only-of-type {\n",
       "        vertical-align: middle;\n",
       "    }\n",
       "\n",
       "    .dataframe tbody tr th {\n",
       "        vertical-align: top;\n",
       "    }\n",
       "\n",
       "    .dataframe thead th {\n",
       "        text-align: right;\n",
       "    }\n",
       "</style>\n",
       "<table border=\"1\" class=\"dataframe\">\n",
       "  <thead>\n",
       "    <tr style=\"text-align: right;\">\n",
       "      <th></th>\n",
       "      <th>methods</th>\n",
       "      <th>accuracy_mean</th>\n",
       "      <th>accuracy_std</th>\n",
       "      <th>f1_macro_mean</th>\n",
       "      <th>f1_macro_std</th>\n",
       "      <th>f1_micro_mean</th>\n",
       "      <th>f1_micro_std</th>\n",
       "      <th>auc_micro_mean</th>\n",
       "      <th>auc_micro_std</th>\n",
       "      <th>auc_macro_mean</th>\n",
       "      <th>auc_macro_std</th>\n",
       "    </tr>\n",
       "  </thead>\n",
       "  <tbody>\n",
       "    <tr>\n",
       "      <th>0</th>\n",
       "      <td>xnetmf</td>\n",
       "      <td>0.7103</td>\n",
       "      <td>0.0813</td>\n",
       "      <td>0.6920</td>\n",
       "      <td>0.0821</td>\n",
       "      <td>0.7103</td>\n",
       "      <td>0.0813</td>\n",
       "      <td>0.9013</td>\n",
       "      <td>0.0462</td>\n",
       "      <td>0.9097</td>\n",
       "      <td>0.0458</td>\n",
       "    </tr>\n",
       "    <tr>\n",
       "      <th>1</th>\n",
       "      <td>struc2vec</td>\n",
       "      <td>0.7937</td>\n",
       "      <td>0.0795</td>\n",
       "      <td>0.7873</td>\n",
       "      <td>0.0806</td>\n",
       "      <td>0.7937</td>\n",
       "      <td>0.0795</td>\n",
       "      <td>0.9209</td>\n",
       "      <td>0.0347</td>\n",
       "      <td>0.9244</td>\n",
       "      <td>0.0333</td>\n",
       "    </tr>\n",
       "    <tr>\n",
       "      <th>2</th>\n",
       "      <td>struc2vec</td>\n",
       "      <td>0.7937</td>\n",
       "      <td>0.0795</td>\n",
       "      <td>0.7873</td>\n",
       "      <td>0.0806</td>\n",
       "      <td>0.7937</td>\n",
       "      <td>0.0795</td>\n",
       "      <td>0.9209</td>\n",
       "      <td>0.0347</td>\n",
       "      <td>0.9244</td>\n",
       "      <td>0.0333</td>\n",
       "    </tr>\n",
       "    <tr>\n",
       "      <th>3</th>\n",
       "      <td>struc2vec</td>\n",
       "      <td>0.7937</td>\n",
       "      <td>0.0795</td>\n",
       "      <td>0.7873</td>\n",
       "      <td>0.0806</td>\n",
       "      <td>0.7937</td>\n",
       "      <td>0.0795</td>\n",
       "      <td>0.9209</td>\n",
       "      <td>0.0347</td>\n",
       "      <td>0.9244</td>\n",
       "      <td>0.0333</td>\n",
       "    </tr>\n",
       "    <tr>\n",
       "      <th>4</th>\n",
       "      <td>struc2vec</td>\n",
       "      <td>0.7937</td>\n",
       "      <td>0.0795</td>\n",
       "      <td>0.7873</td>\n",
       "      <td>0.0806</td>\n",
       "      <td>0.7937</td>\n",
       "      <td>0.0795</td>\n",
       "      <td>0.9209</td>\n",
       "      <td>0.0347</td>\n",
       "      <td>0.9244</td>\n",
       "      <td>0.0333</td>\n",
       "    </tr>\n",
       "    <tr>\n",
       "      <th>5</th>\n",
       "      <td>struc2vec</td>\n",
       "      <td>0.7937</td>\n",
       "      <td>0.0795</td>\n",
       "      <td>0.7873</td>\n",
       "      <td>0.0806</td>\n",
       "      <td>0.7937</td>\n",
       "      <td>0.0795</td>\n",
       "      <td>0.9209</td>\n",
       "      <td>0.0347</td>\n",
       "      <td>0.9244</td>\n",
       "      <td>0.0333</td>\n",
       "    </tr>\n",
       "  </tbody>\n",
       "</table>\n",
       "</div>"
      ],
      "text/plain": [
       "     methods  accuracy_mean  accuracy_std  f1_macro_mean  f1_macro_std  \\\n",
       "0     xnetmf         0.7103        0.0813         0.6920        0.0821   \n",
       "1  struc2vec         0.7937        0.0795         0.7873        0.0806   \n",
       "2  struc2vec         0.7937        0.0795         0.7873        0.0806   \n",
       "3  struc2vec         0.7937        0.0795         0.7873        0.0806   \n",
       "4  struc2vec         0.7937        0.0795         0.7873        0.0806   \n",
       "5  struc2vec         0.7937        0.0795         0.7873        0.0806   \n",
       "\n",
       "   f1_micro_mean  f1_micro_std  auc_micro_mean  auc_micro_std  auc_macro_mean  \\\n",
       "0         0.7103        0.0813          0.9013         0.0462          0.9097   \n",
       "1         0.7937        0.0795          0.9209         0.0347          0.9244   \n",
       "2         0.7937        0.0795          0.9209         0.0347          0.9244   \n",
       "3         0.7937        0.0795          0.9209         0.0347          0.9244   \n",
       "4         0.7937        0.0795          0.9209         0.0347          0.9244   \n",
       "5         0.7937        0.0795          0.9209         0.0347          0.9244   \n",
       "\n",
       "   auc_macro_std  \n",
       "0         0.0458  \n",
       "1         0.0333  \n",
       "2         0.0333  \n",
       "3         0.0333  \n",
       "4         0.0333  \n",
       "5         0.0333  "
      ]
     },
     "execution_count": 32,
     "metadata": {},
     "output_type": "execute_result"
    }
   ],
   "source": [
    "concatenate_result_pd([(\"xnetmf\", result_xnetmf), \n",
    "                       (\"struc2vec\", result_struc2vec),\n",
    "                       (\"struc2vec\", result_struc2vec),\n",
    "                       (\"struc2vec\", result_struc2vec),\n",
    "                       (\"struc2vec\", result_struc2vec),\n",
    "                       (\"struc2vec\", result_struc2vec)])"
   ]
  },
  {
   "cell_type": "code",
   "execution_count": 33,
   "metadata": {},
   "outputs": [
    {
     "data": {
      "text/html": [
       "<div>\n",
       "<style scoped>\n",
       "    .dataframe tbody tr th:only-of-type {\n",
       "        vertical-align: middle;\n",
       "    }\n",
       "\n",
       "    .dataframe tbody tr th {\n",
       "        vertical-align: top;\n",
       "    }\n",
       "\n",
       "    .dataframe thead th {\n",
       "        text-align: right;\n",
       "    }\n",
       "</style>\n",
       "<table border=\"1\" class=\"dataframe\">\n",
       "  <thead>\n",
       "    <tr style=\"text-align: right;\">\n",
       "      <th></th>\n",
       "      <th>methods</th>\n",
       "      <th>purity</th>\n",
       "      <th>nmi</th>\n",
       "    </tr>\n",
       "  </thead>\n",
       "  <tbody>\n",
       "    <tr>\n",
       "      <th>0</th>\n",
       "      <td>xnetmf</td>\n",
       "      <td>0.450382</td>\n",
       "      <td>0.247507</td>\n",
       "    </tr>\n",
       "    <tr>\n",
       "      <th>1</th>\n",
       "      <td>struc2vec</td>\n",
       "      <td>0.679389</td>\n",
       "      <td>0.485475</td>\n",
       "    </tr>\n",
       "  </tbody>\n",
       "</table>\n",
       "</div>"
      ],
      "text/plain": [
       "     methods    purity       nmi\n",
       "0     xnetmf  0.450382  0.247507\n",
       "1  struc2vec  0.679389  0.485475"
      ]
     },
     "execution_count": 33,
     "metadata": {},
     "output_type": "execute_result"
    }
   ],
   "source": [
    "concatenate_result_pd([(\"xnetmf\", clu_xnetmf), \n",
    "                       (\"struc2vec\", clu_struc2vec)])"
   ]
  },
  {
   "cell_type": "code",
   "execution_count": 43,
   "metadata": {},
   "outputs": [],
   "source": [
    "rtn_pd = concatenate_result_pd([(\"xnetmf\", result_xnetmf), \n",
    "                       (\"struc2vec1\", result_struc2vec),\n",
    "                       (\"struc2vec2\", result_struc2vec),\n",
    "                       (\"struc2vec3\", result_struc2vec),\n",
    "                       (\"struc2vec5\", result_struc2vec),\n",
    "                       (\"struc2vec6\", result_struc2vec)])"
   ]
  },
  {
   "cell_type": "code",
   "execution_count": 44,
   "metadata": {},
   "outputs": [
    {
     "ename": "SyntaxError",
     "evalue": "unexpected EOF while parsing (<ipython-input-44-4761c9c7cfa5>, line 1)",
     "output_type": "error",
     "traceback": [
      "\u001b[0;36m  File \u001b[0;32m\"<ipython-input-44-4761c9c7cfa5>\"\u001b[0;36m, line \u001b[0;32m1\u001b[0m\n\u001b[0;31m    def visualize_classification(list_results):\u001b[0m\n\u001b[0m                                               ^\u001b[0m\n\u001b[0;31mSyntaxError\u001b[0m\u001b[0;31m:\u001b[0m unexpected EOF while parsing\n"
     ]
    }
   ],
   "source": [
    "def visualize_classification(list_results):"
   ]
  },
  {
   "cell_type": "code",
   "execution_count": 45,
   "metadata": {},
   "outputs": [
    {
     "data": {
      "text/html": [
       "<div>\n",
       "<style scoped>\n",
       "    .dataframe tbody tr th:only-of-type {\n",
       "        vertical-align: middle;\n",
       "    }\n",
       "\n",
       "    .dataframe tbody tr th {\n",
       "        vertical-align: top;\n",
       "    }\n",
       "\n",
       "    .dataframe thead th {\n",
       "        text-align: right;\n",
       "    }\n",
       "</style>\n",
       "<table border=\"1\" class=\"dataframe\">\n",
       "  <thead>\n",
       "    <tr style=\"text-align: right;\">\n",
       "      <th></th>\n",
       "      <th>methods</th>\n",
       "      <th>accuracy_mean</th>\n",
       "      <th>accuracy_std</th>\n",
       "      <th>f1_macro_mean</th>\n",
       "      <th>f1_macro_std</th>\n",
       "      <th>f1_micro_mean</th>\n",
       "      <th>f1_micro_std</th>\n",
       "      <th>auc_micro_mean</th>\n",
       "      <th>auc_micro_std</th>\n",
       "      <th>auc_macro_mean</th>\n",
       "      <th>auc_macro_std</th>\n",
       "    </tr>\n",
       "  </thead>\n",
       "  <tbody>\n",
       "    <tr>\n",
       "      <th>0</th>\n",
       "      <td>xnetmf</td>\n",
       "      <td>0.7103</td>\n",
       "      <td>0.0813</td>\n",
       "      <td>0.6920</td>\n",
       "      <td>0.0821</td>\n",
       "      <td>0.7103</td>\n",
       "      <td>0.0813</td>\n",
       "      <td>0.9013</td>\n",
       "      <td>0.0462</td>\n",
       "      <td>0.9097</td>\n",
       "      <td>0.0458</td>\n",
       "    </tr>\n",
       "    <tr>\n",
       "      <th>1</th>\n",
       "      <td>struc2vec1</td>\n",
       "      <td>0.7937</td>\n",
       "      <td>0.0795</td>\n",
       "      <td>0.7873</td>\n",
       "      <td>0.0806</td>\n",
       "      <td>0.7937</td>\n",
       "      <td>0.0795</td>\n",
       "      <td>0.9209</td>\n",
       "      <td>0.0347</td>\n",
       "      <td>0.9244</td>\n",
       "      <td>0.0333</td>\n",
       "    </tr>\n",
       "    <tr>\n",
       "      <th>2</th>\n",
       "      <td>struc2vec2</td>\n",
       "      <td>0.7937</td>\n",
       "      <td>0.0795</td>\n",
       "      <td>0.7873</td>\n",
       "      <td>0.0806</td>\n",
       "      <td>0.7937</td>\n",
       "      <td>0.0795</td>\n",
       "      <td>0.9209</td>\n",
       "      <td>0.0347</td>\n",
       "      <td>0.9244</td>\n",
       "      <td>0.0333</td>\n",
       "    </tr>\n",
       "    <tr>\n",
       "      <th>3</th>\n",
       "      <td>struc2vec3</td>\n",
       "      <td>0.7937</td>\n",
       "      <td>0.0795</td>\n",
       "      <td>0.7873</td>\n",
       "      <td>0.0806</td>\n",
       "      <td>0.7937</td>\n",
       "      <td>0.0795</td>\n",
       "      <td>0.9209</td>\n",
       "      <td>0.0347</td>\n",
       "      <td>0.9244</td>\n",
       "      <td>0.0333</td>\n",
       "    </tr>\n",
       "    <tr>\n",
       "      <th>4</th>\n",
       "      <td>struc2vec5</td>\n",
       "      <td>0.7937</td>\n",
       "      <td>0.0795</td>\n",
       "      <td>0.7873</td>\n",
       "      <td>0.0806</td>\n",
       "      <td>0.7937</td>\n",
       "      <td>0.0795</td>\n",
       "      <td>0.9209</td>\n",
       "      <td>0.0347</td>\n",
       "      <td>0.9244</td>\n",
       "      <td>0.0333</td>\n",
       "    </tr>\n",
       "    <tr>\n",
       "      <th>5</th>\n",
       "      <td>struc2vec6</td>\n",
       "      <td>0.7937</td>\n",
       "      <td>0.0795</td>\n",
       "      <td>0.7873</td>\n",
       "      <td>0.0806</td>\n",
       "      <td>0.7937</td>\n",
       "      <td>0.0795</td>\n",
       "      <td>0.9209</td>\n",
       "      <td>0.0347</td>\n",
       "      <td>0.9244</td>\n",
       "      <td>0.0333</td>\n",
       "    </tr>\n",
       "  </tbody>\n",
       "</table>\n",
       "</div>"
      ],
      "text/plain": [
       "      methods  accuracy_mean  accuracy_std  f1_macro_mean  f1_macro_std  \\\n",
       "0      xnetmf         0.7103        0.0813         0.6920        0.0821   \n",
       "1  struc2vec1         0.7937        0.0795         0.7873        0.0806   \n",
       "2  struc2vec2         0.7937        0.0795         0.7873        0.0806   \n",
       "3  struc2vec3         0.7937        0.0795         0.7873        0.0806   \n",
       "4  struc2vec5         0.7937        0.0795         0.7873        0.0806   \n",
       "5  struc2vec6         0.7937        0.0795         0.7873        0.0806   \n",
       "\n",
       "   f1_micro_mean  f1_micro_std  auc_micro_mean  auc_micro_std  auc_macro_mean  \\\n",
       "0         0.7103        0.0813          0.9013         0.0462          0.9097   \n",
       "1         0.7937        0.0795          0.9209         0.0347          0.9244   \n",
       "2         0.7937        0.0795          0.9209         0.0347          0.9244   \n",
       "3         0.7937        0.0795          0.9209         0.0347          0.9244   \n",
       "4         0.7937        0.0795          0.9209         0.0347          0.9244   \n",
       "5         0.7937        0.0795          0.9209         0.0347          0.9244   \n",
       "\n",
       "   auc_macro_std  \n",
       "0         0.0458  \n",
       "1         0.0333  \n",
       "2         0.0333  \n",
       "3         0.0333  \n",
       "4         0.0333  \n",
       "5         0.0333  "
      ]
     },
     "execution_count": 45,
     "metadata": {},
     "output_type": "execute_result"
    }
   ],
   "source": [
    "rtn_pd"
   ]
  },
  {
   "cell_type": "code",
   "execution_count": 54,
   "metadata": {},
   "outputs": [
    {
     "data": {
      "text/plain": [
       "(0, 1)"
      ]
     },
     "execution_count": 54,
     "metadata": {},
     "output_type": "execute_result"
    },
    {
     "data": {
      "image/png": "[encoded data removed]",
      "text/plain": [
       "<matplotlib.figure.Figure at 0x7f943252be48>"
      ]
     },
     "metadata": {},
     "output_type": "display_data"
    }
   ],
   "source": [
    "plt.close()\n",
    "plt.figure(figsize=(8,3), dpi=300)\n",
    "plt.style.use('ggplot')\n",
    "plt.bar(rtn_pd['methods'], rtn_pd[\"accuracy_mean\"], yerr=rtn_pd[\"accuracy_std\"], capsize=10)\n",
    "plt.ylim([0, 1])"
   ]
  },
  {
   "cell_type": "code",
   "execution_count": null,
   "metadata": {},
   "outputs": [],
   "source": [
    "fig, ax = plt.subplots()\n",
    "ax.bar()"
   ]
  }
 ],
 "metadata": {
  "kernelspec": {
   "display_name": "SEMB",
   "language": "python",
   "name": "semb"
  },
  "language_info": {
   "codemirror_mode": {
    "name": "ipython",
    "version": 3
   },
   "file_extension": ".py",
   "mimetype": "text/x-python",
   "name": "python",
   "nbconvert_exporter": "python",
   "pygments_lexer": "ipython3",
   "version": "3.6.2"
  }
 },
 "nbformat": 4,
 "nbformat_minor": 2
}
