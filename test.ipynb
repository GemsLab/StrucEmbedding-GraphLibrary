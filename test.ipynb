{
 "cells": [
  {
   "cell_type": "markdown",
   "metadata": {},
   "source": [
    "## This is a test notebook to see if the code refactoring for the libraries are working as expected"
   ]
  },
  {
   "cell_type": "code",
   "execution_count": 1,
   "metadata": {
    "tags": []
   },
   "outputs": [
    {
     "name": "stdout",
     "output_type": "stream",
     "text": [
      "graphwave\n",
      "degree2\n",
      "drne\n"
     ]
    },
    {
     "name": "stderr",
     "output_type": "stream",
     "text": [
      "/Library/Frameworks/Python.framework/Versions/3.6/lib/python3.6/site-packages/tensorflow/python/framework/dtypes.py:493: FutureWarning: Passing (type, 1) or '1type' as a synonym of type is deprecated; in a future version of numpy, it will be understood as (type, (1,)) / '(1,)type'.\n",
      "  _np_qint8 = np.dtype([(\"qint8\", np.int8, 1)])\n",
      "/Library/Frameworks/Python.framework/Versions/3.6/lib/python3.6/site-packages/tensorflow/python/framework/dtypes.py:494: FutureWarning: Passing (type, 1) or '1type' as a synonym of type is deprecated; in a future version of numpy, it will be understood as (type, (1,)) / '(1,)type'.\n",
      "  _np_quint8 = np.dtype([(\"quint8\", np.uint8, 1)])\n",
      "/Library/Frameworks/Python.framework/Versions/3.6/lib/python3.6/site-packages/tensorflow/python/framework/dtypes.py:495: FutureWarning: Passing (type, 1) or '1type' as a synonym of type is deprecated; in a future version of numpy, it will be understood as (type, (1,)) / '(1,)type'.\n",
      "  _np_qint16 = np.dtype([(\"qint16\", np.int16, 1)])\n",
      "/Library/Frameworks/Python.framework/Versions/3.6/lib/python3.6/site-packages/tensorflow/python/framework/dtypes.py:496: FutureWarning: Passing (type, 1) or '1type' as a synonym of type is deprecated; in a future version of numpy, it will be understood as (type, (1,)) / '(1,)type'.\n",
      "  _np_quint16 = np.dtype([(\"quint16\", np.uint16, 1)])\n",
      "/Library/Frameworks/Python.framework/Versions/3.6/lib/python3.6/site-packages/tensorflow/python/framework/dtypes.py:497: FutureWarning: Passing (type, 1) or '1type' as a synonym of type is deprecated; in a future version of numpy, it will be understood as (type, (1,)) / '(1,)type'.\n",
      "  _np_qint32 = np.dtype([(\"qint32\", np.int32, 1)])\n",
      "/Library/Frameworks/Python.framework/Versions/3.6/lib/python3.6/site-packages/tensorflow/python/framework/dtypes.py:502: FutureWarning: Passing (type, 1) or '1type' as a synonym of type is deprecated; in a future version of numpy, it will be understood as (type, (1,)) / '(1,)type'.\n",
      "  np_resource = np.dtype([(\"resource\", np.ubyte, 1)])\n"
     ]
    },
    {
     "name": "stdout",
     "output_type": "stream",
     "text": [
      "node2vec\n",
      "degree\n",
      "role2vec\n",
      "line\n",
      "degree1\n",
      "struc2vec\n",
      "xnetmf\n",
      "multilens\n",
      "segk\n",
      "riwalk\n"
     ]
    },
    {
     "name": "stderr",
     "output_type": "stream",
     "text": [
      "/Library/Frameworks/Python.framework/Versions/3.6/lib/python3.6/site-packages/sklearn/externals/joblib/__init__.py:15: DeprecationWarning: sklearn.externals.joblib is deprecated in 0.21 and will be removed in 0.23. Please import this functionality directly from joblib, which can be installed with: pip install joblib. If this warning is raised when loading pickled models, you may need to re-serialize those models with scikit-learn 0.21+.\n",
      "  warnings.warn(msg, category=DeprecationWarning)\n"
     ]
    }
   ],
   "source": [
    "from semb.methods import load as load_method\n",
    "from semb.methods import get_method_ids\n",
    "for mid in get_method_ids():\n",
    "    print(mid)\n",
    "    load_method(mid)"
   ]
  },
  {
   "cell_type": "code",
   "execution_count": null,
   "metadata": {
    "tags": []
   },
   "outputs": [
    {
     "name": "stdout",
     "output_type": "stream",
     "text": [
      "airports\n"
     ]
    }
   ],
   "source": [
    "from semb.datasets import load as load_dataset\n",
    "from semb.datasets import get_dataset_ids\n",
    "for did in get_dataset_ids():\n",
    "    print(did)\n",
    "    load_dataset(did)"
   ]
  },
  {
   "cell_type": "markdown",
   "metadata": {},
   "source": [
    "# Node2Vec"
   ]
  },
  {
   "cell_type": "code",
   "execution_count": null,
   "metadata": {
    "tags": []
   },
   "outputs": [
    {
     "name": "stdout",
     "output_type": "stream",
     "text": [
      "INFO:tensorflow:Summary name grad/Embeddings/embeddings:0 is illegal; using grad/Embeddings/embeddings_0 instead.\n",
      "INFO:tensorflow:Summary name weight/Embeddings/embeddings:0 is illegal; using weight/Embeddings/embeddings_0 instead.\n",
      "INFO:tensorflow:Summary name grad/LSTM/rnn/layer_norm_basic_lstm_cell/kernel:0 is illegal; using grad/LSTM/rnn/layer_norm_basic_lstm_cell/kernel_0 instead.\n",
      "INFO:tensorflow:Summary name weight/LSTM/rnn/layer_norm_basic_lstm_cell/kernel:0 is illegal; using weight/LSTM/rnn/layer_norm_basic_lstm_cell/kernel_0 instead.\n",
      "INFO:tensorflow:Summary name grad/LSTM/rnn/layer_norm_basic_lstm_cell/bias:0 is illegal; using grad/LSTM/rnn/layer_norm_basic_lstm_cell/bias_0 instead.\n",
      "INFO:tensorflow:Summary name weight/LSTM/rnn/layer_norm_basic_lstm_cell/bias:0 is illegal; using weight/LSTM/rnn/layer_norm_basic_lstm_cell/bias_0 instead.\n",
      "INFO:tensorflow:Summary name grad/Guilded/dense/kernel:0 is illegal; using grad/Guilded/dense/kernel_0 instead.\n",
      "INFO:tensorflow:Summary name weight/Guilded/dense/kernel:0 is illegal; using weight/Guilded/dense/kernel_0 instead.\n",
      "INFO:tensorflow:Summary name grad/Guilded/dense/bias:0 is illegal; using grad/Guilded/dense/bias_0 instead.\n",
      "INFO:tensorflow:Summary name weight/Guilded/dense/bias:0 is illegal; using weight/Guilded/dense/bias_0 instead.\n",
      "training\n",
      "batch_size: 64\n",
      "epoch: 0/20, batch: 0/6, loss: 1.429023, structure_loss: 0.101987, orth_loss: 422.890015, guilded_loss: 2.654071, time: 0.2647s\n",
      "epoch: 0/20, batch: 1/6, loss: 1.423107, structure_loss: 0.112725, orth_loss: 422.889496, guilded_loss: 2.620765, time: 0.1311s\n",
      "epoch: 0/20, batch: 2/6, loss: 1.424326, structure_loss: 0.112970, orth_loss: 422.888916, guilded_loss: 2.622711, time: 0.1305s\n",
      "epoch: 0/20, batch: 3/6, loss: 1.271469, structure_loss: 0.107564, orth_loss: 422.888336, guilded_loss: 2.327810, time: 0.1454s\n",
      "epoch: 0/20, batch: 4/6, loss: 1.445181, structure_loss: 0.146635, orth_loss: 422.888306, guilded_loss: 2.597093, time: 0.1425s\n",
      "epoch: 0/20, batch: 5/6, loss: 1.286501, structure_loss: 0.121203, orth_loss: 422.887878, guilded_loss: 2.330596, time: 0.1395s\n",
      "Save varibales in /Users/mark/GoogleDrive/UM/S4/GEMS/Git/StrucEmbeddingLibrary/semb/methods/drne/eni/\n",
      "Save embeddings in /Users/mark/GoogleDrive/UM/S4/GEMS/Git/StrucEmbeddingLibrary/semb/methods/drne/eni/\n",
      "(399, 128)\n",
      "epoch: 1/20, batch: 0/6, loss: 1.242011, structure_loss: 0.138178, orth_loss: 422.887756, guilded_loss: 2.207666, time: 0.1357s\n",
      "epoch: 1/20, batch: 1/6, loss: 1.168239, structure_loss: 0.111372, orth_loss: 422.887573, guilded_loss: 2.113734, time: 0.1438s\n",
      "epoch: 1/20, batch: 2/6, loss: 1.157335, structure_loss: 0.126186, orth_loss: 422.887482, guilded_loss: 2.062297, time: 0.1359s\n",
      "epoch: 1/20, batch: 3/6, loss: 1.123091, structure_loss: 0.146725, orth_loss: 422.887451, guilded_loss: 1.952732, time: 0.2288s\n",
      "epoch: 1/20, batch: 4/6, loss: 0.858641, structure_loss: 0.092915, orth_loss: 422.887604, guilded_loss: 1.531452, time: 0.1359s\n",
      "epoch: 1/20, batch: 5/6, loss: 0.842251, structure_loss: 0.107264, orth_loss: 422.888092, guilded_loss: 1.469974, time: 0.1417s\n",
      "Save varibales in /Users/mark/GoogleDrive/UM/S4/GEMS/Git/StrucEmbeddingLibrary/semb/methods/drne/eni/\n",
      "epoch: 2/20, batch: 0/6, loss: 0.801981, structure_loss: 0.112601, orth_loss: 422.888519, guilded_loss: 1.378760, time: 0.1291s\n",
      "epoch: 2/20, batch: 1/6, loss: 0.855919, structure_loss: 0.141595, orth_loss: 422.889069, guilded_loss: 1.428648, time: 0.1275s\n",
      "epoch: 2/20, batch: 2/6, loss: 0.722433, structure_loss: 0.116267, orth_loss: 422.889648, guilded_loss: 1.212332, time: 0.1309s\n",
      "epoch: 2/20, batch: 3/6, loss: 0.684421, structure_loss: 0.143703, orth_loss: 422.890503, guilded_loss: 1.081437, time: 0.1271s\n",
      "epoch: 2/20, batch: 4/6, loss: 0.626027, structure_loss: 0.131277, orth_loss: 422.891296, guilded_loss: 0.989501, time: 0.1232s\n",
      "epoch: 2/20, batch: 5/6, loss: 0.497058, structure_loss: 0.118760, orth_loss: 422.892029, guilded_loss: 0.756595, time: 0.1363s\n",
      "Save varibales in /Users/mark/GoogleDrive/UM/S4/GEMS/Git/StrucEmbeddingLibrary/semb/methods/drne/eni/\n",
      "epoch: 3/20, batch: 0/6, loss: 0.501431, structure_loss: 0.151490, orth_loss: 422.893127, guilded_loss: 0.699881, time: 0.1314s\n",
      "epoch: 3/20, batch: 1/6, loss: 0.441940, structure_loss: 0.130900, orth_loss: 422.894043, guilded_loss: 0.622079, time: 0.1263s\n",
      "epoch: 3/20, batch: 2/6, loss: 0.399216, structure_loss: 0.133090, orth_loss: 422.894287, guilded_loss: 0.532251, time: 0.1435s\n",
      "epoch: 3/20, batch: 3/6, loss: 0.413722, structure_loss: 0.144310, orth_loss: 422.894684, guilded_loss: 0.538825, time: 0.1396s\n",
      "epoch: 3/20, batch: 4/6, loss: 0.384693, structure_loss: 0.139258, orth_loss: 422.894409, guilded_loss: 0.490871, time: 0.1247s\n",
      "epoch: 3/20, batch: 5/6, loss: 0.392029, structure_loss: 0.147039, orth_loss: 422.893951, guilded_loss: 0.489981, time: 0.1325s\n",
      "Save varibales in /Users/mark/GoogleDrive/UM/S4/GEMS/Git/StrucEmbeddingLibrary/semb/methods/drne/eni/\n",
      "epoch: 4/20, batch: 0/6, loss: 0.327439, structure_loss: 0.111096, orth_loss: 422.893555, guilded_loss: 0.432685, time: 0.1370s\n",
      "epoch: 4/20, batch: 1/6, loss: 0.340022, structure_loss: 0.142758, orth_loss: 422.892670, guilded_loss: 0.394527, time: 0.1339s\n",
      "epoch: 4/20, batch: 2/6, loss: 0.409608, structure_loss: 0.150343, orth_loss: 422.892487, guilded_loss: 0.518531, time: 0.1266s\n",
      "epoch: 4/20, batch: 3/6, loss: 0.427313, structure_loss: 0.160418, orth_loss: 422.891785, guilded_loss: 0.533790, time: 0.1273s\n",
      "epoch: 4/20, batch: 4/6, loss: 0.362669, structure_loss: 0.133841, orth_loss: 422.890564, guilded_loss: 0.457656, time: 0.1402s\n",
      "epoch: 4/20, batch: 5/6, loss: 0.346911, structure_loss: 0.123112, orth_loss: 422.888245, guilded_loss: 0.447598, time: 0.1267s\n",
      "Save varibales in /Users/mark/GoogleDrive/UM/S4/GEMS/Git/StrucEmbeddingLibrary/semb/methods/drne/eni/\n",
      "epoch: 5/20, batch: 0/6, loss: 0.322951, structure_loss: 0.116848, orth_loss: 422.886536, guilded_loss: 0.412207, time: 0.1369s\n",
      "epoch: 5/20, batch: 1/6, loss: 0.340597, structure_loss: 0.127461, orth_loss: 422.885010, guilded_loss: 0.426273, time: 0.1373s\n",
      "epoch: 5/20, batch: 2/6, loss: 0.399993, structure_loss: 0.166989, orth_loss: 422.883850, guilded_loss: 0.466009, time: 0.1282s\n",
      "epoch: 5/20, batch: 3/6, loss: 0.379361, structure_loss: 0.124382, orth_loss: 422.882294, guilded_loss: 0.509958, time: 0.1369s\n",
      "epoch: 5/20, batch: 4/6, loss: 0.347897, structure_loss: 0.134272, orth_loss: 422.880798, guilded_loss: 0.427250, time: 0.1255s\n",
      "epoch: 5/20, batch: 5/6, loss: 0.327125, structure_loss: 0.128306, orth_loss: 422.877869, guilded_loss: 0.397636, time: 0.1338s\n",
      "Save varibales in /Users/mark/GoogleDrive/UM/S4/GEMS/Git/StrucEmbeddingLibrary/semb/methods/drne/eni/\n",
      "epoch: 6/20, batch: 0/6, loss: 0.304897, structure_loss: 0.100132, orth_loss: 422.878296, guilded_loss: 0.409530, time: 0.1435s\n",
      "epoch: 6/20, batch: 1/6, loss: 0.380683, structure_loss: 0.147696, orth_loss: 422.874634, guilded_loss: 0.465975, time: 0.1365s\n",
      "epoch: 6/20, batch: 2/6, loss: 0.375941, structure_loss: 0.128172, orth_loss: 422.875214, guilded_loss: 0.495538, time: 0.1388s\n",
      "epoch: 6/20, batch: 3/6, loss: 0.376360, structure_loss: 0.146453, orth_loss: 422.869781, guilded_loss: 0.459814, time: 0.1247s\n",
      "epoch: 6/20, batch: 4/6, loss: 0.318491, structure_loss: 0.115482, orth_loss: 422.868011, guilded_loss: 0.406020, time: 0.1420s\n",
      "epoch: 6/20, batch: 5/6, loss: 0.263000, structure_loss: 0.088840, orth_loss: 422.866638, guilded_loss: 0.348320, time: 0.1769s\n",
      "Save varibales in /Users/mark/GoogleDrive/UM/S4/GEMS/Git/StrucEmbeddingLibrary/semb/methods/drne/eni/\n",
      "epoch: 7/20, batch: 0/6, loss: 0.302730, structure_loss: 0.100766, orth_loss: 422.865967, guilded_loss: 0.403928, time: 0.1310s\n",
      "epoch: 7/20, batch: 1/6, loss: 0.400907, structure_loss: 0.148785, orth_loss: 422.861908, guilded_loss: 0.504243, time: 0.1338s\n",
      "epoch: 7/20, batch: 2/6, loss: 0.370953, structure_loss: 0.134530, orth_loss: 422.863098, guilded_loss: 0.472846, time: 0.1330s\n",
      "epoch: 7/20, batch: 3/6, loss: 0.295877, structure_loss: 0.103390, orth_loss: 422.856293, guilded_loss: 0.384976, time: 0.1293s\n",
      "epoch: 7/20, batch: 4/6, loss: 0.368440, structure_loss: 0.124207, orth_loss: 422.853088, guilded_loss: 0.488466, time: 0.1415s\n",
      "epoch: 7/20, batch: 5/6, loss: 0.321279, structure_loss: 0.111560, orth_loss: 422.854065, guilded_loss: 0.419437, time: 0.1496s\n",
      "Save varibales in /Users/mark/GoogleDrive/UM/S4/GEMS/Git/StrucEmbeddingLibrary/semb/methods/drne/eni/\n"
     ]
    },
    {
     "name": "stdout",
     "output_type": "stream",
     "text": [
      "epoch: 8/20, batch: 0/6, loss: 0.399967, structure_loss: 0.127031, orth_loss: 422.845001, guilded_loss: 0.545872, time: 0.1322s\n",
      "epoch: 8/20, batch: 1/6, loss: 0.309576, structure_loss: 0.118716, orth_loss: 422.847778, guilded_loss: 0.381719, time: 0.1343s\n",
      "epoch: 8/20, batch: 2/6, loss: 0.302139, structure_loss: 0.095957, orth_loss: 422.837708, guilded_loss: 0.412365, time: 0.1290s\n",
      "epoch: 8/20, batch: 3/6, loss: 0.333690, structure_loss: 0.108359, orth_loss: 422.840149, guilded_loss: 0.450662, time: 0.1421s\n",
      "epoch: 8/20, batch: 4/6, loss: 0.387053, structure_loss: 0.114386, orth_loss: 422.828522, guilded_loss: 0.545333, time: 0.1245s\n",
      "epoch: 8/20, batch: 5/6, loss: 0.372515, structure_loss: 0.125748, orth_loss: 422.834503, guilded_loss: 0.493535, time: 0.1267s\n",
      "Save varibales in /Users/mark/GoogleDrive/UM/S4/GEMS/Git/StrucEmbeddingLibrary/semb/methods/drne/eni/\n",
      "epoch: 9/20, batch: 0/6, loss: 0.420338, structure_loss: 0.117058, orth_loss: 422.815369, guilded_loss: 0.606559, time: 0.1314s\n",
      "epoch: 9/20, batch: 1/6, loss: 0.282867, structure_loss: 0.093549, orth_loss: 422.816711, guilded_loss: 0.378638, time: 0.1311s\n",
      "epoch: 9/20, batch: 2/6, loss: 0.339579, structure_loss: 0.129176, orth_loss: 422.810822, guilded_loss: 0.420805, time: 0.1346s\n",
      "epoch: 9/20, batch: 3/6, loss: 0.287999, structure_loss: 0.080845, orth_loss: 422.808014, guilded_loss: 0.414308, time: 0.1283s\n",
      "epoch: 9/20, batch: 4/6, loss: 0.366080, structure_loss: 0.081902, orth_loss: 422.796387, guilded_loss: 0.568355, time: 0.1280s\n",
      "epoch: 9/20, batch: 5/6, loss: 0.507313, structure_loss: 0.119146, orth_loss: 422.807892, guilded_loss: 0.776333, time: 0.1242s\n",
      "Save varibales in /Users/mark/GoogleDrive/UM/S4/GEMS/Git/StrucEmbeddingLibrary/semb/methods/drne/eni/\n",
      "epoch: 10/20, batch: 0/6, loss: 0.346115, structure_loss: 0.105535, orth_loss: 422.779724, guilded_loss: 0.481159, time: 0.1326s\n",
      "epoch: 10/20, batch: 1/6, loss: 0.348566, structure_loss: 0.116988, orth_loss: 422.784363, guilded_loss: 0.463155, time: 0.1412s\n",
      "epoch: 10/20, batch: 2/6, loss: 0.280519, structure_loss: 0.074549, orth_loss: 422.767395, guilded_loss: 0.411941, time: 0.1225s\n",
      "epoch: 10/20, batch: 3/6, loss: 0.275346, structure_loss: 0.093313, orth_loss: 422.767853, guilded_loss: 0.364066, time: 0.1295s\n",
      "epoch: 10/20, batch: 4/6, loss: 0.381739, structure_loss: 0.086076, orth_loss: 422.755615, guilded_loss: 0.591326, time: 0.1276s\n",
      "epoch: 10/20, batch: 5/6, loss: 0.424777, structure_loss: 0.104526, orth_loss: 422.766632, guilded_loss: 0.640501, time: 0.1257s\n",
      "Save varibales in /Users/mark/GoogleDrive/UM/S4/GEMS/Git/StrucEmbeddingLibrary/semb/methods/drne/eni/\n",
      "Save embeddings in /Users/mark/GoogleDrive/UM/S4/GEMS/Git/StrucEmbeddingLibrary/semb/methods/drne/eni/\n",
      "(399, 128)\n",
      "epoch: 11/20, batch: 0/6, loss: 0.402931, structure_loss: 0.125402, orth_loss: 422.735046, guilded_loss: 0.555058, time: 0.1313s\n",
      "epoch: 11/20, batch: 1/6, loss: 0.316722, structure_loss: 0.087132, orth_loss: 422.736084, guilded_loss: 0.459181, time: 0.1279s\n",
      "epoch: 11/20, batch: 2/6, loss: 0.477552, structure_loss: 0.075245, orth_loss: 422.710327, guilded_loss: 0.804615, time: 0.1345s\n",
      "epoch: 11/20, batch: 3/6, loss: 0.534440, structure_loss: 0.090397, orth_loss: 422.729980, guilded_loss: 0.888086, time: 0.1501s\n",
      "epoch: 11/20, batch: 4/6, loss: 0.412806, structure_loss: 0.088729, orth_loss: 422.681396, guilded_loss: 0.648154, time: 0.1447s\n",
      "epoch: 11/20, batch: 5/6, loss: 0.358499, structure_loss: 0.093788, orth_loss: 422.690430, guilded_loss: 0.529423, time: 0.1252s\n",
      "Save varibales in /Users/mark/GoogleDrive/UM/S4/GEMS/Git/StrucEmbeddingLibrary/semb/methods/drne/eni/\n"
     ]
    }
   ],
   "source": [
    "from semb.methods import load as load_method\n",
    "from semb.datasets import load as load_dataset\n",
    "\n",
    "Node2VecMethod = load_method(\"drne\")\n",
    "AirportDataProvider = load_dataset(\"airports\")\n",
    "airport_datasets = AirportDataProvider().get_datasets()\n",
    "brazil_airport_graph = AirportDataProvider().load_dataset(airport_datasets[1])\n",
    "\n",
    "node2vec = Node2VecMethod(brazil_airport_graph, batch_size=256)\n",
    "node2vec.train()\n",
    "emb = node2vec.get_embeddings()"
   ]
  },
  {
   "cell_type": "code",
   "execution_count": null,
   "metadata": {},
   "outputs": [],
   "source": [
    "from semb.evaluations.centrality_correlation import *"
   ]
  },
  {
   "cell_type": "code",
   "execution_count": null,
   "metadata": {},
   "outputs": [],
   "source": [
    "centrality_correlation(brazil_airport_graph, emb, centrality='degree', similarity='cosine')"
   ]
  },
  {
   "cell_type": "code",
   "execution_count": null,
   "metadata": {},
   "outputs": [],
   "source": [
    "len(emb)"
   ]
  },
  {
   "cell_type": "code",
   "execution_count": null,
   "metadata": {},
   "outputs": [],
   "source": [
    "len(emb[7])"
   ]
  },
  {
   "cell_type": "code",
   "execution_count": null,
   "metadata": {},
   "outputs": [],
   "source": [
    "from semb.evaluations.classification import *"
   ]
  },
  {
   "cell_type": "code",
   "execution_count": null,
   "metadata": {},
   "outputs": [],
   "source": [
    "from semb.evaluations.utils import *"
   ]
  },
  {
   "cell_type": "code",
   "execution_count": null,
   "metadata": {},
   "outputs": [],
   "source": [
    "dict_labels = get_label(\"./sample-data/labels/airport_European_label.txt\")"
   ]
  },
  {
   "cell_type": "code",
   "execution_count": null,
   "metadata": {},
   "outputs": [],
   "source": [
    "perform_classification(emb, dict_labels)"
   ]
  },
  {
   "cell_type": "code",
   "execution_count": null,
   "metadata": {},
   "outputs": [],
   "source": [
    "from semb.evaluations.clustering import *"
   ]
  },
  {
   "cell_type": "code",
   "execution_count": null,
   "metadata": {},
   "outputs": [],
   "source": [
    "perform_clustering(emb, dict_labels)"
   ]
  },
  {
   "cell_type": "code",
   "execution_count": null,
   "metadata": {},
   "outputs": [],
   "source": []
  }
 ],
 "metadata": {
  "kernelspec": {
   "display_name": "Python 3",
   "language": "python",
   "name": "python3"
  },
  "language_info": {
   "codemirror_mode": {
    "name": "ipython",
    "version": 3
   },
   "file_extension": ".py",
   "mimetype": "text/x-python",
   "name": "python",
   "nbconvert_exporter": "python",
   "pygments_lexer": "ipython3",
   "version": "3.6.2"
  }
 },
 "nbformat": 4,
 "nbformat_minor": 2
}
