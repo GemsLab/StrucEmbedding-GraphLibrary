{

 "cells": [
  {
   "cell_type": "markdown",
   "metadata": {},
   "source": [
    "## This is a test notebook to see if the code refactoring for the libraries are working as expected"
   ]
  },
  {
   "cell_type": "code",
   "execution_count": 1,
   "metadata": {
    "tags": []
   },
   "outputs": [
    {
     "name": "stdout",
     "output_type": "stream",
     "text": [
      "graphwave\n",
      "degree2\n",
      "drne\n"
     ]
    },
    {
     "name": "stderr",
     "output_type": "stream",
     "text": [
      "/Library/Frameworks/Python.framework/Versions/3.6/lib/python3.6/site-packages/tensorflow/python/framework/dtypes.py:493: FutureWarning: Passing (type, 1) or '1type' as a synonym of type is deprecated; in a future version of numpy, it will be understood as (type, (1,)) / '(1,)type'.\n",
      "  _np_qint8 = np.dtype([(\"qint8\", np.int8, 1)])\n",
      "/Library/Frameworks/Python.framework/Versions/3.6/lib/python3.6/site-packages/tensorflow/python/framework/dtypes.py:494: FutureWarning: Passing (type, 1) or '1type' as a synonym of type is deprecated; in a future version of numpy, it will be understood as (type, (1,)) / '(1,)type'.\n",
      "  _np_quint8 = np.dtype([(\"quint8\", np.uint8, 1)])\n",
      "/Library/Frameworks/Python.framework/Versions/3.6/lib/python3.6/site-packages/tensorflow/python/framework/dtypes.py:495: FutureWarning: Passing (type, 1) or '1type' as a synonym of type is deprecated; in a future version of numpy, it will be understood as (type, (1,)) / '(1,)type'.\n",
      "  _np_qint16 = np.dtype([(\"qint16\", np.int16, 1)])\n",
      "/Library/Frameworks/Python.framework/Versions/3.6/lib/python3.6/site-packages/tensorflow/python/framework/dtypes.py:496: FutureWarning: Passing (type, 1) or '1type' as a synonym of type is deprecated; in a future version of numpy, it will be understood as (type, (1,)) / '(1,)type'.\n",
      "  _np_quint16 = np.dtype([(\"quint16\", np.uint16, 1)])\n",
      "/Library/Frameworks/Python.framework/Versions/3.6/lib/python3.6/site-packages/tensorflow/python/framework/dtypes.py:497: FutureWarning: Passing (type, 1) or '1type' as a synonym of type is deprecated; in a future version of numpy, it will be understood as (type, (1,)) / '(1,)type'.\n",
      "  _np_qint32 = np.dtype([(\"qint32\", np.int32, 1)])\n",
      "/Library/Frameworks/Python.framework/Versions/3.6/lib/python3.6/site-packages/tensorflow/python/framework/dtypes.py:502: FutureWarning: Passing (type, 1) or '1type' as a synonym of type is deprecated; in a future version of numpy, it will be understood as (type, (1,)) / '(1,)type'.\n",
      "  np_resource = np.dtype([(\"resource\", np.ubyte, 1)])\n"
     ]
    },
    {
     "name": "stdout",
     "output_type": "stream",
     "text": [
      "node2vec\n",
      "degree\n",
      "role2vec\n",
      "line\n",
      "degree1\n",
      "struc2vec\n",
      "xnetmf\n",
      "multilens\n",
      "segk\n",
      "riwalk\n"
     ]
    },
    {
     "name": "stderr",
     "output_type": "stream",
     "text": [
      "/Library/Frameworks/Python.framework/Versions/3.6/lib/python3.6/site-packages/sklearn/externals/joblib/__init__.py:15: DeprecationWarning: sklearn.externals.joblib is deprecated in 0.21 and will be removed in 0.23. Please import this functionality directly from joblib, which can be installed with: pip install joblib. If this warning is raised when loading pickled models, you may need to re-serialize those models with scikit-learn 0.21+.\n",
      "  warnings.warn(msg, category=DeprecationWarning)\n"
     ]
    }
   ],
   "source": [
    "from semb.methods import load as load_method\n",
    "from semb.methods import get_method_ids\n",
    "for mid in get_method_ids():\n",
    "    print(mid)\n",
    "    load_method(mid)"
   ]
  },
  {
   "cell_type": "code",
   "execution_count": 2,
   "metadata": {
    "tags": []
   },
   "outputs": [
    {
     "name": "stdout",
     "output_type": "stream",
     "text": [
      "airports\n"
     ]
    }
   ],
   "source": [
    "from semb.datasets import load as load_dataset\n",
    "from semb.datasets import get_dataset_ids\n",
    "for did in get_dataset_ids():\n",
    "    print(did)\n",
    "    load_dataset(did)"
   ]
  },
  {
   "cell_type": "markdown",
   "metadata": {},
   "source": [
    "# Node2Vec"
   ]
  },
  {
   "cell_type": "code",
   "execution_count": 14,
   "metadata": {
    "tags": []
   },
   "outputs": [
    {
     "name": "stdout",
     "output_type": "stream",
     "text": [
      "[unweighted graph detected.]\n",
      "[Initial_feature_all finished]\n",
      "[Generate combined feature vetor] node: 0\n",
      "[Starting to obtain features from in-components]\n",
      "[Generate combined feature vetor] node: 0\n",
      "[Current layer] 0\n",
      "[feature_matrix shape] (399, 3)\n",
      "[Current_node_id] 0\n",
      "[Generate combined feature vetor] node: 0\n",
      "[Starting to obtain features from in-components]\n",
      "[Generate combined feature vetor] node: 0\n",
      "[Current layer] 1\n",
      "[feature_matrix shape] (399, 21)\n",
      "[Current_node_id] 0\n",
      "[Generate combined feature vetor] node: 0\n",
      "[Starting to obtain features from in-components]\n",
      "[Generate combined feature vetor] node: 0\n"
     ]
    }
   ],
   "source": [
    "from semb.methods import load as load_method\n",
    "from semb.datasets import load as load_dataset\n",
    "\n",
    "Node2VecMethod = load_method(\"multilens\")\n",
    "AirportDataProvider = load_dataset(\"airports\")\n",
    "airport_datasets = AirportDataProvider().get_datasets()\n",
    "brazil_airport_graph = AirportDataProvider().load_dataset(airport_datasets[1])\n",
    "\n",
    "node2vec = Node2VecMethod(brazil_airport_graph)\n",
    "node2vec.train()\n",
    "emb = node2vec.get_embeddings()"
   ]
  },
  {
   "cell_type": "code",
   "execution_count": 15,
   "metadata": {},
   "outputs": [],
   "source": [
    "from semb.evaluations.centrality_correlation import *"
   ]
  },
  {
   "cell_type": "code",
   "execution_count": 21,
   "metadata": {},
   "outputs": [
    {
     "data": {
      "text/plain": [
       "0.5193504610826047"
      ]
     },
     "execution_count": 21,
     "metadata": {},
     "output_type": "execute_result"
    }
   ],
   "source": [
    "centrality_correlation(brazil_airport_graph, emb, centrality='clustering_coeff', similarity='euclidean')"
   ]
  },
  {
   "cell_type": "code",
   "execution_count": 6,
   "metadata": {},
   "outputs": [
    {
     "data": {
      "text/plain": [
       "399"
      ]
     },
     "execution_count": 6,
     "metadata": {},
     "output_type": "execute_result"
    }
   ],
   "source": [
    "len(emb)"
   ]
  },
  {
   "cell_type": "code",
   "execution_count": 8,
   "metadata": {},
   "outputs": [],
   "source": [
    "from semb.evaluations.classification import *"
   ]
  },
  {
   "cell_type": "code",
   "execution_count": 9,
   "metadata": {},
   "outputs": [],
   "source": [
    "from semb.evaluations.utils import *"
   ]
  },
  {
   "cell_type": "code",
   "execution_count": 23,
   "metadata": {},
   "outputs": [
    {
     "name": "stdout",
     "output_type": "stream",
     "text": [
      "Read in 399 node labels.\n",
      ">>> Label 1 appears 158 times\n",
      ">>> Label 3 appears 44 times\n",
      ">>> Label 2 appears 147 times\n",
      ">>> Label 0 appears 50 times\n"
     ]
    }
   ],
   "source": [
    "dict_labels = get_label(\"./sample-data/labels/airport_European_log_label.txt\")"
   ]
  },
  {
   "cell_type": "code",
   "execution_count": 24,
   "metadata": {},
   "outputs": [
    {
     "name": "stderr",
     "output_type": "stream",
     "text": [
      "/Library/Frameworks/Python.framework/Versions/3.6/lib/python3.6/site-packages/sklearn/linear_model/logistic.py:947: ConvergenceWarning: lbfgs failed to converge. Increase the number of iterations.\n",
      "  \"of iterations.\", ConvergenceWarning)\n",
      "/Library/Frameworks/Python.framework/Versions/3.6/lib/python3.6/site-packages/sklearn/linear_model/logistic.py:947: ConvergenceWarning: lbfgs failed to converge. Increase the number of iterations.\n",
      "  \"of iterations.\", ConvergenceWarning)\n",
      "/Library/Frameworks/Python.framework/Versions/3.6/lib/python3.6/site-packages/sklearn/linear_model/logistic.py:947: ConvergenceWarning: lbfgs failed to converge. Increase the number of iterations.\n",
      "  \"of iterations.\", ConvergenceWarning)\n",
      "/Library/Frameworks/Python.framework/Versions/3.6/lib/python3.6/site-packages/sklearn/linear_model/logistic.py:947: ConvergenceWarning: lbfgs failed to converge. Increase the number of iterations.\n",
      "  \"of iterations.\", ConvergenceWarning)\n",
      "/Library/Frameworks/Python.framework/Versions/3.6/lib/python3.6/site-packages/sklearn/linear_model/logistic.py:947: ConvergenceWarning: lbfgs failed to converge. Increase the number of iterations.\n",
      "  \"of iterations.\", ConvergenceWarning)\n"
     ]
    },
    {
     "data": {
      "text/plain": [
       "{'overall': {'accuracy': {'mean': 0.7068, 'std': 0.0274},\n",
       "  'f1_macro': {'mean': 0.6514, 'std': 0.0393},\n",
       "  'f1_micro': {'mean': 0.7068, 'std': 0.0274},\n",
       "  'auc_micro': {'mean': 0.8819, 'std': 0.0117},\n",
       "  'auc_macro': {'mean': 0.8521, 'std': 0.0186}},\n",
       " 'detailed': {0: {'accuracy': 0.7125,\n",
       "   'f1_macro': 0.6786,\n",
       "   'f1_micro': 0.7125,\n",
       "   'auc_micro': 0.8838,\n",
       "   'auc_macro': 0.8403},\n",
       "  1: {'accuracy': 0.675,\n",
       "   'f1_macro': 0.6409,\n",
       "   'f1_micro': 0.675,\n",
       "   'auc_micro': 0.8845,\n",
       "   'auc_macro': 0.8688},\n",
       "  2: {'accuracy': 0.675,\n",
       "   'f1_macro': 0.579,\n",
       "   'f1_micro': 0.675,\n",
       "   'auc_micro': 0.8802,\n",
       "   'auc_macro': 0.8446},\n",
       "  3: {'accuracy': 0.7375,\n",
       "   'f1_macro': 0.6736,\n",
       "   'f1_micro': 0.7375,\n",
       "   'auc_micro': 0.8623,\n",
       "   'auc_macro': 0.8282},\n",
       "  4: {'accuracy': 0.7342,\n",
       "   'f1_macro': 0.6849,\n",
       "   'f1_micro': 0.7342,\n",
       "   'auc_micro': 0.8988,\n",
       "   'auc_macro': 0.8784}}}"
      ]
     },
     "execution_count": 24,
     "metadata": {},
     "output_type": "execute_result"
    }
   ],
   "source": [
    "perform_classification(emb, dict_labels)"
   ]
  },
  {
   "cell_type": "code",
   "execution_count": 12,
   "metadata": {},
   "outputs": [],
   "source": [
    "from semb.evaluations.clustering import *"
   ]
  },
  {
   "cell_type": "code",
   "execution_count": 13,
   "metadata": {},
   "outputs": [
    {
     "name": "stderr",
     "output_type": "stream",
     "text": [
      "/Library/Frameworks/Python.framework/Versions/3.6/lib/python3.6/site-packages/sklearn/metrics/cluster/supervised.py:859: FutureWarning: The behavior of NMI will change in version 0.22. To match the behavior of 'v_measure_score', NMI will use average_method='arithmetic' by default.\n",
      "  FutureWarning)\n"
     ]
    },
    {
     "data": {
      "text/plain": [
       "{'overall': {'purity': [0.46867167919799496], 'nmi': [0.26041753411249785]}}"
      ]
     },
     "execution_count": 13,
     "metadata": {},
     "output_type": "execute_result"
    }
   ],
   "source": [
    "perform_clustering(emb, dict_labels)"
   ]
  },
  {
   "cell_type": "markdown",
   "metadata": {},
   "source": [
    "# Struc2Vec"
   ]
  },
  {
   "cell_type": "code",
   "execution_count": 3,
   "metadata": {
    "tags": []
   },
   "outputs": [
    {
     "output_type": "stream",
     "name": "stdout",
     "text": "!!!!!\nrm /Users/jackiezhang/Projects/Research/StrucEmbeddingLibrary/semb/methods/struc2vec/pickles/weights_distances-layer-*.pickle\n<gensim.models.keyedvectors.Word2VecKeyedVectors object at 0x7ff73958afd0>\n"
    }
   ],
   "source": [
    "from semb.methods import load as load_method\n",
    "from semb.datasets import load as load_dataset\n",
    "\n",
    "Struc2VecMethod = load_method(\"struc2vec\")\n",
    "AirportDataProvider = load_dataset(\"airports\")\n",
    "airport_datasets = AirportDataProvider().get_datasets()\n",
    "brazil_airport_graph = AirportDataProvider().load_dataset(airport_datasets[0])\n",
    "\n",
    "struc2vec = Struc2VecMethod(brazil_airport_graph, num_walks=10, walk_length=80, window_size=10, dim=128, opt1=True, opt2=True, opt3=True, until_layer=2)\n",
    "struc2vec.train()\n",
    "\n",
    "print(struc2vec.get_embeddings())"
   ]
  },
  {
   "cell_type": "markdown",
   "metadata": {},
   "source": [
    "# XNetMF"
   ]
  },
  {
   "cell_type": "code",
   "execution_count": 1,
   "metadata": {
    "tags": []
   },
   "outputs": [
    {
     "output_type": "stream",
     "name": "stdout",
     "text": "max degree:  80\ngot k hop neighbors in time:  0.027379989624023438\ngot degree sequences in time:  0.011226892471313477\ncomputed representation in time:  0.009149789810180664\n[[-1.37704743e-04  1.27010683e-03 -2.03434516e-04 ... -1.49213045e-22\n  -3.41994083e-23  1.43444650e-22]\n [-9.65898443e-05  1.66742756e-04 -2.45790879e-04 ... -1.66882048e-22\n  -4.09051438e-23  1.70831618e-22]\n [-1.58249968e-05 -1.83503745e-05  1.23592685e-04 ... -1.73237629e-22\n  -4.80606517e-23  1.70797436e-22]\n ...\n [-6.44032227e-05 -1.28126308e-04 -7.84104267e-06 ... -3.57732969e-22\n  -1.28058809e-22  2.18954869e-22]\n [-5.36337990e-05 -1.31538894e-04  5.44271448e-06 ... -3.59625795e-22\n  -1.28893017e-22  2.24111482e-22]\n [ 4.40716560e-04  7.88162017e-06 -1.71904982e-04 ... -3.50170074e-22\n  -1.17795556e-22  2.16827953e-22]]\n"
    }
   ],
   "source": [
    "from semb.methods import load as load_method\n",
    "from semb.datasets import load as load_dataset\n",
    "\n",
    "Struc2VecMethod = load_method(\"xnetmf\")\n",
    "AirportDataProvider = load_dataset(\"airports\")\n",
    "airport_datasets = AirportDataProvider().get_datasets()\n",
    "brazil_airport_graph = AirportDataProvider().load_dataset(airport_datasets[0])\n",
    "\n",
    "struc2vec = Struc2VecMethod(brazil_airport_graph, dim=128, max_layer=2, discount=0.1, gamma=1)\n",
    "struc2vec.train()\n",
    "\n",
    "print(struc2vec.get_embeddings())"
   ]
  },
  {
   "cell_type": "code",
   "execution_count": null,
   "metadata": {},
   "outputs": [],
   "source": []
  }
 ],
 "metadata": {
  "kernelspec": {
   "display_name": "Python 3",
   "language": "python",
   "name": "python3"
  },
  "language_info": {
   "codemirror_mode": {
    "name": "ipython",
    "version": 3
   },
   "file_extension": ".py",
   "mimetype": "text/x-python",
   "name": "python",
   "nbconvert_exporter": "python",
   "pygments_lexer": "ipython3",
   "version": "3.6.2"
  }
 },
 "nbformat": 4,
 "nbformat_minor": 2
}
